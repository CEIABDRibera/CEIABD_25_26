{
 "cells": [
  {
   "cell_type": "markdown",
   "id": "fbcde6bc",
   "metadata": {},
   "source": [
    "<img alt=\"logo\" height=\"100\" src=\"img/logo.jpeg\" width=\"100\"/>   \n",
    "\n",
    "# <a id='toc1_'></a>[REGRESIÓN LINEAL](#toc0_)\n",
    "### <a id='toc1_1_1_'></a>[Definición](#toc0_)\n",
    "Hay diferentes tipos de regresión lineal, y la más sencilla y práctica para aprender machine learning es la **regresión lineal simple**. Esta consta de una variable independiente y otra variable dependiente, pudiendo existir una relación entre ambas variables que hará que, a medida que aumenta el valor de una la otra lo haga proporcionalmente.  \n",
    "\n",
    "En estadística, la **regresión lineal simple** (o el ajuste lineal) es un modelo matemático utilizado para encontrar la relación de dependencia entre una variable dependiente (y) y otra independiente (X). En el caso de la regresión lineal múltiple buscaría la relación entre una variable dependiente y 'm' variables independientes.   \n",
    "\n",
    "\n",
    " <img width=\"460\" height=\"300\" src=\"img/linealregresion.png\" >   \n"
   ]
  },
  {
   "cell_type": "markdown",
   "id": "d4ffd5fd",
   "metadata": {},
   "source": [
    "**Tabla de contenidos**<a id='toc0_'></a>    \n",
    "- [REGRESIÓN LINEAL](#toc1_)    \n",
    "    - [Definición](#toc1_1_1_) \n",
    "    - [Aproximación matemática](#toc1_1_)   \n",
    "    - [Desarrollo de un modelo de regresión lineal en Python](#toc1_1_2_)    \n",
    "    - [PASO 1 - GENERACIÓN DEL DATAFRAME (PANDAS) CON LOS DATOS A ANALIZAR](#toc1_1_3_)    \n",
    "    - [PASO 2 - ANÁLISIS INICIAL DEL CONTENIDO DEL DATAFRAME](#toc1_1_4_)    \n",
    "    - [PASO 3 - PARTICIONADO DE DATOS PARA GENERAR CONJUNTOS TRAIN Y TEST](#toc1_1_5_)    \n",
    "    - [PASO 4 - CREACIÓN DEL MODELO DE REGRESIÓN LINEAL SIMPLE](#toc1_1_6_)    \n",
    "      - [Predicción](#toc1_1_6_1_)    \n",
    "      - [Visualización de coeficientes mínimos cuadrados W1 y W0](#toc1_1_6_2_)    \n",
    "    - [Error cuadrático medio - MSE](#toc1_1_7_)    \n",
    "    - [Coeficientes de determinación (R2)](#toc1_1_8_)    \n",
    "    - [Graficado](#toc1_1_9_)    \n",
    "      - [Ploteado de la gráfica de regresión lineal simple](#toc1_1_9_1_)    \n",
    "      - [Ploteado de la gráfica de relación entre variables del conjunto de datos](#toc1_1_9_2_)    \n",
    "      - [Ploteado de la gráfica de datos de entrenamiento](#toc1_1_9_3_)    \n",
    "  - [REGRESIÓN LINEAL (Ejemplo 2)](#toc1_2_)    \n",
    "      - [Importamos librerías.](#toc1_2_1_1_)    \n",
    "    - [Generación del dataset simulado](#toc1_2_2_)    \n",
    "    - [División del dataset en entrenamiento y test](#toc1_2_3_)    \n",
    "    - [Creación y entrenamiento del modelo de regresión lineal multivariable](#toc1_2_4_)    \n",
    "    - [Evaluación del modelo con el conjunto de test](#toc1_2_5_)    \n",
    "    - [Raíz del Error Cuadrático Medio (RMSE)](#toc1_2_6_)    \n",
    "    - [Coeficiente Determinación (R2)](#toc1_2_7_)    \n",
    "    - [Análisis evaluativo del modelo](#toc1_2_8_)    \n",
    "    - [Realización de una predicción sobre datos ficticios](#toc1_2_9_)    \n",
    "    - [Visualización](#toc1_2_10_)     \n",
    "  - [REGRESIÓN LINEAL - (Ejemplo 3)](#toc1_4_)    \n",
    "    - [Análisis evaluativo del modelo](#toc1_4_1_)    \n",
    "  - [EJERCICIO PRÁCTICO](#toc1_5_)    \n",
    "\n",
    "<!-- vscode-jupyter-toc-config\n",
    "\tnumbering=false\n",
    "\tanchor=true\n",
    "\tflat=false\n",
    "\tminLevel=1\n",
    "\tmaxLevel=6\n",
    "\t/vscode-jupyter-toc-config -->\n",
    "<!-- THIS CELL WILL BE REPLACED ON TOC UPDATE. DO NOT WRITE YOUR TEXT IN THIS CELL -->"
   ]
  },
  {
   "cell_type": "markdown",
   "id": "5a7b2a4b",
   "metadata": {},
   "source": [
    "## <a id='toc1_1_'></a>[Aproximación matemática.](#toc01)\n",
    "### Funciones lineales (y = mx + b)\n",
    "Una función lineal describe cómo una variable cambia respecto a otra. En IA, se usan en **regresión lineal** para predecir valores numéricos.\n",
    "\n",
    "📌 **Ejemplo** (criptomonedas): supongamos que el precio de un token aumenta 2 € cada día y hoy vale 100 €. La fórmula sería:\n",
    "\\[\n",
    "precio = 2 \t* días + 100\n",
    "\\]"
   ]
  },
  {
   "cell_type": "code",
   "execution_count": 1,
   "id": "8fdf4da0",
   "metadata": {},
   "outputs": [
    {
     "name": "stdout",
     "output_type": "stream",
     "text": [
      "Precios previstos: [100 102 104 106 108 110]\n"
     ]
    }
   ],
   "source": [
    "# Predicción de precio de un token\n",
    "import numpy as np\n",
    "dias = np.array([0, 1, 2, 3, 4, 5])\n",
    "precio = 2 * dias + 100\n",
    "print(\"Precios previstos:\", precio)"
   ]
  },
  {
   "cell_type": "markdown",
   "id": "9a439573",
   "metadata": {},
   "source": [
    "💡 **Ejercicio**:  \n",
    "Un streamer gana 5 nuevos suscriptores por día y empieza con 200.  \n",
    "Crea la función lineal y calcula cuántos suscriptores tendrá al cabo de 10 días."
   ]
  },
  {
   "cell_type": "markdown",
   "id": "391c74c3",
   "metadata": {},
   "source": [
    "### Pendiente e intercepto\n",
    "- **Pendiente (m)**: cuánto cambia la variable dependiente cuando la independiente aumenta en 1 unidad.\n",
    "- **Intercepto (b)**: valor cuando la variable independiente es 0.\n",
    "\n",
    "📌 **Ejemplo** (salud): si cada hora extra de sueño reduce el estrés en 3 puntos y el nivel de estrés sin dormir es 80, la pendiente es -3 y el intercepto es 80."
   ]
  },
  {
   "cell_type": "code",
   "execution_count": null,
   "id": "22e81119",
   "metadata": {},
   "outputs": [
    {
     "name": "stdout",
     "output_type": "stream",
     "text": [
      "Pendiente: -3.0000000000000013\n",
      "Intercepto: 80.00000000000001\n"
     ]
    }
   ],
   "source": [
    "# Cálculo de pendiente e intercepto a partir de datos\n",
    "horas_sueno = np.array([4, 5, 6, 7, 8])  # Con 4 horas de sueño, el estrés es 68 (80 - 4*3 = 68)\n",
    "estres = np.array([68, 65, 62, 59, 56])\n",
    "# polyfit deveuelve un array de coeficientes siendo el primer elemento la pendiente y el segundo el intercepto. \n",
    "# 1 indica que es una regresión lineal (grado 1)\n",
    "m, b = np.polyfit(horas_sueno, estres, 1) \n",
    "print(\"Pendiente:\", m)\n",
    "print(\"Intercepto:\", b)"
   ]
  },
  {
   "cell_type": "markdown",
   "id": "b008e55d",
   "metadata": {},
   "source": [
    "💡 **Ejercicio**:  \n",
    "Imagina que tienes datos de horas de entrenamiento y calorías quemadas.  \n",
    "Crea arrays y usa `np.polyfit` para obtener la pendiente e intercepto, siguiendo el ejemplo anterior."
   ]
  },
  {
   "cell_type": "markdown",
   "id": "552bc809",
   "metadata": {},
   "source": [
    "### <a id='toc1_1_2_'></a>[Desarrollo de un modelo de regresión lineal en Python](#toc0_)\n",
    "\n",
    "Se va a ir generando el código de la regresión lineal simple paso a paso para una mejor compresión "
   ]
  },
  {
   "cell_type": "markdown",
   "metadata": {},
   "source": [
    "### <a id='toc1_1_3_'></a>[PASO 1 - GENERACIÓN DEL DATAFRAME (PANDAS) CON LOS DATOS A ANALIZAR](#toc0_)"
   ]
  },
  {
   "cell_type": "code",
   "execution_count": 3,
   "id": "19e4bd3f",
   "metadata": {},
   "outputs": [],
   "source": [
    "import pandas as pd\n",
    "from sklearn.linear_model import LinearRegression\n",
    "from sklearn.model_selection import train_test_split\n",
    "from sklearn.metrics import mean_squared_error\n",
    "\n",
    "# ------------------------------------\n",
    "# Crear dataframe con los datos de facturación de clientes\n",
    "data = {'customer_id': [1, 2, 3, 4, 5],\n",
    "        'billing_amount': [100, 200, 150, 300, 250],\n",
    "        'sales': [2, 4, 3, 6, 5]\n",
    "}\n",
    "clients = pd.DataFrame(data)"
   ]
  },
  {
   "cell_type": "markdown",
   "metadata": {},
   "source": [
    "### <a id='toc1_1_4_'></a>[PASO 2 - ANÁLISIS INICIAL DEL CONTENIDO DEL DATAFRAME](#toc0_)"
   ]
  },
  {
   "cell_type": "markdown",
   "id": "1be77148-483b-41ee-ae4e-98374b17f3b5",
   "metadata": {},
   "source": [
    "Se muestran, a modo de comprobación,  los datos almacenados en el dataframe"
   ]
  },
  {
   "cell_type": "code",
   "execution_count": 4,
   "id": "eb756643-8727-4c8b-b2ab-38f2772fbcbf",
   "metadata": {
    "ExecuteTime": {
     "end_time": "2024-01-11T15:20:54.745789600Z",
     "start_time": "2024-01-11T15:20:54.730098Z"
    }
   },
   "outputs": [
    {
     "name": "stdout",
     "output_type": "stream",
     "text": [
      "   customer_id  billing_amount  sales\n",
      "0            1             100      2\n",
      "1            2             200      4\n",
      "2            3             150      3\n",
      "3            4             300      6\n",
      "4            5             250      5\n"
     ]
    }
   ],
   "source": [
    "print(clients)"
   ]
  },
  {
   "cell_type": "markdown",
   "id": "1a0d1572-f8c2-4c64-a5c0-9afcaf420463",
   "metadata": {},
   "source": [
    "Se comprueban los tipos de datos contenidos en el conjunto de datos y las dimensiones dataframe"
   ]
  },
  {
   "cell_type": "code",
   "execution_count": 5,
   "id": "fc794b97-4b59-484a-b2e7-d3faed3d3904",
   "metadata": {
    "ExecuteTime": {
     "end_time": "2024-01-11T15:20:54.804101100Z",
     "start_time": "2024-01-11T15:20:54.747833300Z"
    }
   },
   "outputs": [
    {
     "name": "stdout",
     "output_type": "stream",
     "text": [
      "<class 'pandas.core.frame.DataFrame'>\n",
      "RangeIndex: 5 entries, 0 to 4\n",
      "Data columns (total 3 columns):\n",
      " #   Column          Non-Null Count  Dtype\n",
      "---  ------          --------------  -----\n",
      " 0   customer_id     5 non-null      int64\n",
      " 1   billing_amount  5 non-null      int64\n",
      " 2   sales           5 non-null      int64\n",
      "dtypes: int64(3)\n",
      "memory usage: 252.0 bytes\n",
      "None\n"
     ]
    }
   ],
   "source": [
    "print(clients.info())"
   ]
  },
  {
   "cell_type": "markdown",
   "id": "0eaf36d7-5fe0-41a6-b4c8-d0dd33433c25",
   "metadata": {},
   "source": [
    "Se muestra la información sobre las dimensiones del dataframe"
   ]
  },
  {
   "cell_type": "code",
   "execution_count": 6,
   "id": "b7edf49c",
   "metadata": {},
   "outputs": [
    {
     "name": "stdout",
     "output_type": "stream",
     "text": [
      "(5, 3)\n"
     ]
    }
   ],
   "source": [
    "print(clients.shape)"
   ]
  },
  {
   "cell_type": "markdown",
   "metadata": {},
   "source": [
    "### <a id='toc1_1_5_'></a>[PASO 3 - PARTICIONADO DE DATOS PARA GENERAR CONJUNTOS TRAIN Y TEST](#toc0_)   \n",
    "\n",
    "#### ¿Porqué dividimos los datos en los conjuntos de \"train\" y \"test\"?   \n",
    "\n",
    "Los algoritmos de Machine Learning aprenden de los datos con los que los entrenamos. A partir de ellos, intentan encontrar o inferir el patrón que les permita predecir el resultado para un nuevo caso. Pero, para poder calibrar si un modelo funciona, necesitaremos probarlo con un conjunto de datos diferente. Por ello, en todo proceso de aprendizaje automático, los datos de trabajo se dividen en dos partes: **datos de entrenamiento(train)** y **datos de prueba(test)**.   \n",
    "\n",
    "Los *datos de entrenamiento o \"training data\"* son los datos que usamos para **entrenar un modelo**. La calidad de nuestro modelo de aprendizaje automático va a ser directamente proporcional a la calidad de los datos. Por ello las labores de limpieza, depuración o \"data wrangling\" consumen un porcentaje importante del tiempo de los científicos de datos.   \n",
    "\n",
    "Los *datos de prueba o \"testing data\"* son los datos que nos “reservamos” para **comprobar** si el modelo que hemos generado a partir de los datos de entrenamiento “funciona”. Es decir, si las respuestas predichas por el modelo para un caso totalmente nuevo son acertadas o no.\n",
    "\n",
    "Es importante que el conjunto de datos de prueba tenga un volumen suficiente como para generar resultados estadísticamente significativos, y a la vez, que sea representativo del conjunto de datos global.\n",
    "\n",
    "Normalmente el conjunto de datos se suele repartir en un **70% de datos de entrenamiento** y un **30% de datos de test** (también es habitual la proporción *80-20*), pero se puede variar la proporción según el caso. Lo importante es ser siempre conscientes de que hay que evitar el sobreajuste u “overfitting”.   \n",
    "\n",
    "En el siguiente bloque de código realizamos la partición de nuestro dataset. Al no indicar valor alguno para el parámetro ```train_size``` ni para el parámetro ```test_size```, el valor por defecto es de ```test_size = 0.25```. Es decir: 75-25. (Más info sobre la función [train_test_split](https://scikit-learn.org/stable/modules/generated/sklearn.model_selection.train_test_split.html))"
   ]
  },
  {
   "cell_type": "code",
   "execution_count": 9,
   "id": "12558c19-789d-4923-9992-369d1074949e",
   "metadata": {
    "ExecuteTime": {
     "end_time": "2024-01-11T15:20:54.918552200Z",
     "start_time": "2024-01-11T15:20:54.855450100Z"
    }
   },
   "outputs": [],
   "source": [
    "# el parametro random_state asegura que la división sea reproducible\n",
    "X_train, X_test, y_train, y_test = train_test_split(clients['billing_amount'], clients['sales'], random_state=20) "
   ]
  },
  {
   "cell_type": "markdown",
   "id": "e77b8584",
   "metadata": {},
   "source": [
    "Con esta línea de código indicamos que se cree, genere y divida los datos de cliente en varios conjuntos de datos de entrenamiento y prueba:  \n",
    "\n",
    "- Datos de entrada: 'billing_amount', que es la facturación de los clientes.\n",
    "- Variable dependiente: 'sales', importe de ventas.\n",
    "- random_state: se genera una semilla aleatoria para dividir los datos de forma consistente cada vez que ejecutamos el código.\n",
    "- X_train: datos de entrada del conjunto de entrenamiento. Información que se usa para entrenar el modelo.\n",
    "- X_test: datos de entrada del conjunto de prueba. Información que se usa para testear el rendimiento del modelo ya entrenado.\n",
    "- y_train: datos de salida del conjjunto de entrenamiento. Información objetivo que se usa para entrenar el modelo.\n",
    "- y_test: datos de salida del conjunto de prueba. Información objetivo que se usa para testear el rendimiento del modelo ya entrenado.\n",
    "  \n",
    "Realizar esta partición es crucial para evaluar el rendimiento del modelo entrenado."
   ]
  },
  {
   "cell_type": "markdown",
   "metadata": {},
   "source": [
    "### <a id='toc1_1_6_'></a>[PASO 4 - CREACIÓN DEL MODELO DE REGRESIÓN LINEAL SIMPLE](#toc0_)"
   ]
  },
  {
   "cell_type": "markdown",
   "id": "641c7e28",
   "metadata": {},
   "source": [
    "### Formulación matemática de la Regresión Lineal\n",
    "Para resolver el problema de la Regresión Lineal es necesario representar matemáticamente las ideas de “línea recta” y “mejor ajuste”, comentadas a continuación.\n",
    "\n",
    "#### Ecuación de una línea recta\n",
    "\n",
    "La relación lineal entre dos variables $x$ (variable independiente) e $y$ (variable dependiente) se representa matemáticamente a través de la ecuación:\n",
    "$$\n",
    "y = \\omega x + b\n",
    "$$\n",
    "\n",
    "donde $\\omega$ representa la pendiente (inclinación) de la línea recta y $b$ es la intersección con el eje y.\n",
    "\n",
    "Así, el objetivo de la Regresión Lineal es encontrar los valores más adecuados de $\\omega$ y de $b$ que representen de la mejor forma posible la relación entre las variables $x$ e $y$.\n",
    "\n",
    "Para encontrar esta “mejor representación” debemos definir de forma adecuada algún tipo de métrica que nos permita cuantificar qué tan precisa es la Regresión Lineal que estamos realizando.    \n",
    "Esta métrica se conoce como **función de pérdida** (o de costo) en el ámbito Machine Learning, y permite medir la diferencia existente entre los datos reales ($y$) y los datos obtenidos tras realizar la Regresión Lineal ($ŷ$).   "
   ]
  },
  {
   "cell_type": "code",
   "execution_count": 10,
   "id": "8fc42489",
   "metadata": {},
   "outputs": [],
   "source": [
    "lr = LinearRegression().fit(X_train.values.reshape(-1, 1), y_train)"
   ]
  },
  {
   "cell_type": "markdown",
   "metadata": {},
   "source": [
    "#### <a id='toc1_1_6_1_'></a>[Predicción](#toc0_)\n",
    "Usamos el conjunto de test para realizar la predicción usando el modelo entrenado."
   ]
  },
  {
   "cell_type": "code",
   "execution_count": 11,
   "id": "df5e43ae6dd71c5d",
   "metadata": {
    "ExecuteTime": {
     "end_time": "2024-01-11T15:20:55.023879400Z",
     "start_time": "2024-01-11T15:20:54.971279900Z"
    },
    "collapsed": false
   },
   "outputs": [],
   "source": [
    "y_pred = lr.predict(X_test.values.reshape(-1, 1))"
   ]
  },
  {
   "cell_type": "markdown",
   "id": "0204086a",
   "metadata": {},
   "source": [
    "#### NOTA:    \n",
    "\n",
    "**X_test** contiene los datos de entrada del conjunto de prueba. Con **\"reshape(-1,1)\"** o con **\".values.reshape(-1, 1)\"** se pretende redimensionar la matriz a las dimensiones que requiere el modelo LinearRegression() de SciKit-Learn.    \n",
    "\n",
    "La mayoría de los modelos de scikit-learn, incluido LinearRegression, están diseñados para trabajar con una tabla de datos (o una matriz) como entrada. Piensan en los datos de entrada (las variables predictoras, X) como una estructura de dos dimensiones:\n",
    "\n",
    "- **Filas**: Cada una representa una muestra u observación (por ejemplo, un cliente, una casa, un día).\n",
    "- **Columnas**: Cada una representa una característica o variable (por ejemplo, la edad del cliente, el tamaño de la casa, la temperatura del día).\n",
    "\n",
    "Incluso si solo exite una única característica para predecir el objetivo (como en este caso), el modelo sigue esperando una matriz con una sola columna.\n",
    "\n",
    "Por tanto, según el conjunto de datos utilizado, es posible añadir directamente la variable o puede que sea necesario redimensionarla usando **reshape** o **values.reshape**."
   ]
  },
  {
   "cell_type": "markdown",
   "metadata": {},
   "source": [
    "#### <a id='toc1_1_6_2_'></a>[Visualización de coeficientes mínimos cuadrados W1 y W0](#toc0_)"
   ]
  },
  {
   "cell_type": "markdown",
   "id": "175891a5",
   "metadata": {},
   "source": [
    "Los **coeficientes mínimos cuadrados** de una Regresión Lineal son los valores de los parámetros (*pendiente* e *intercepto*) de la recta que ***mejor se ajusta*** a un conjunto de datos al minimizar la suma de los cuadrados de las distancias verticales entre los puntos de datos observados y los puntos predichos por la recta.    \n",
    "Este método, conocido como Mínimos Cuadrados Ordinarios (MCO), busca la *recta de regresión que minimiza el error cuadrático*, haciendo que las predicciones sean lo más cercanas posible a los valores reales. "
   ]
  },
  {
   "cell_type": "code",
   "execution_count": 13,
   "id": "8965e789",
   "metadata": {},
   "outputs": [
    {
     "name": "stdout",
     "output_type": "stream",
     "text": [
      "Coeficiente w1: [0.02]\n",
      "Coeficiente w0: 4.440892098500626e-16\n"
     ]
    }
   ],
   "source": [
    "print(\"Coeficiente w1:\", lr.coef_) # pendiente. Al ser una regresión lineal simple, solo hay un coeficiente. En un caso de regresión múltiple habría varios coeficientes.\n",
    "print(\"Coeficiente w0:\", lr.intercept_)"
   ]
  },
  {
   "cell_type": "markdown",
   "metadata": {},
   "source": [
    "### <a id='toc1_1_7_'></a>[Error cuadrático medio - MSE](#toc0_)\n",
    "Existen diferentes formas de definir matemáticamente la pérdida, pero la más usada es a través del **error cuadrático medio (ECM/MSE)**, definido de la siguiente manera:\n",
    "\n",
    "$$\n",
    "MSE/ECM =\\frac{1}{N}\\sum_{i = 1}^{N}{(y_i-ŷ_i)}^2\n",
    "$$\n",
    "donde *N* es el número total de datos que se tienen originalmente, $y_i$ e $ŷ_i$ son cada uno de los datos originales y los obtenidos a partir de la regresión, y la resta $y_i-ŷ_i$ se eleva al cuadrado para que todas las diferencias que están en la sumatoria sean positivas y no se cancelen entre sí. Esta resta se ilustra en la siguiente figura:\n",
    "\n",
    "<img width=\"700\" height=\"600\" src=\"img/ecm.png\" >   \n",
    "\n",
    "Así pues, el **error cuadrático medio (ECM o MSE)** mide la diferencia al cuadrado entre el valor real y el valor predicho en el total de predicciones del modelo de Machine Learning utilizado, mostrando las diferencias más elevadas.     \n",
    "\n",
    "En estadística, el error cuadrático medio es un **estimador que mide el promedio de errores al cuadrado**, es decir, la diferencia entre el estimador y lo que se estima. Es un parámetro perfecto para medir la cantidad de error entre dos conjuntos de datos. Una explicación sencilla es decir que *\"compara el valor predicho con el valor conocido\"*, dando como resultado un coeficiente de error.   \n",
    "\n",
    "Consideraciones\n",
    "\n",
    "- MSE nunca será negativo ya que los errores se elevan al cuadrado\n",
    "- El valor del error varía de cero a infinito\n",
    "- MSE aumenta exponencialmente con un aumento en el error\n",
    "- Un buen modelo tendrá un valor MSE más cercano a cero. "
   ]
  },
  {
   "cell_type": "code",
   "execution_count": 14,
   "id": "bd3d9210f6612c2d",
   "metadata": {
    "ExecuteTime": {
     "end_time": "2024-01-11T15:20:55.146943900Z",
     "start_time": "2024-01-11T15:20:55.084926300Z"
    },
    "collapsed": false
   },
   "outputs": [
    {
     "name": "stdout",
     "output_type": "stream",
     "text": [
      "MSE:  0.0\n"
     ]
    }
   ],
   "source": [
    "print(\"MSE: \",mean_squared_error(y_test, y_pred))"
   ]
  },
  {
   "cell_type": "markdown",
   "id": "f8297e26",
   "metadata": {},
   "source": [
    "Por tanto, un valor bajo de MSE supone un muy buen ajuste del modelo."
   ]
  },
  {
   "cell_type": "markdown",
   "metadata": {},
   "source": [
    "### <a id='toc1_1_8_'></a>[Coeficientes de determinación (R2)](#toc0_)\n",
    "\n",
    "El coeficiente de determinación de entrenamiento y de pruebas debe ser parecido. Cuando encontramos que ambos valores tienen una diferencia grande suele significar que el modelo está mal ajustado. El coeficiente de determinación (${R}^2$) (R al cuadrado) se utiliza en estadística para cuantificar cómo de cerca están los puntos en la recta de regresión. Es decir, indica en qué medida el cambio en una variable (por ejemplo, las notas de un examen) puede explicarse por los cambios en otra (por ejemplo, las horas de estudio). De esta forma, será posible comprender en qué medida el modelo «se ajusta» a los datos.\n",
    "\n",
    "Los valores esperados para este coeficiente están dentro del rango entre 0 y 1, siendo 0 el valor cuando el modelo NO explica NINGUNA VARIABILIDAD en los datos y 1 cuando el modelo explica TODA LA VARIABILIDAD de los datos.    \n",
    "Los valores más cercanos a 1, por tanto, significan un **mejor ajuste**, indicando que el modelo en cuestión está captando mejor el patrón de datos."
   ]
  },
  {
   "cell_type": "code",
   "execution_count": 15,
   "id": "b10cccc6",
   "metadata": {},
   "outputs": [
    {
     "name": "stdout",
     "output_type": "stream",
     "text": [
      "Valor del coeficiente de determinación del conjunto de entrenamiento: 1.0\n",
      "Valor del coeficiente de determinación del conjunto de prueba: 1.0\n"
     ]
    }
   ],
   "source": [
    "print(\"Valor del coeficiente de determinación del conjunto de entrenamiento:\", round (lr.score(X_train.values.reshape(-1, 1), y_train), 3))\n",
    "print(\"Valor del coeficiente de determinación del conjunto de prueba:\", round (lr.score(X_test.values.reshape(-1, 1), y_test), 3))"
   ]
  },
  {
   "cell_type": "markdown",
   "id": "4547010c",
   "metadata": {},
   "source": [
    "### <a id='toc1_1_9_'></a>[Graficado](#toc0_)"
   ]
  },
  {
   "cell_type": "markdown",
   "metadata": {},
   "source": [
    "#### <a id='toc1_1_9_1_'></a>[Ploteado de la gráfica de regresión lineal simple](#toc0_)"
   ]
  },
  {
   "cell_type": "code",
   "execution_count": 17,
   "id": "8479c6f7",
   "metadata": {},
   "outputs": [
    {
     "data": {
      "image/png": "[encoded data removed]",
      "text/plain": [
       "<Figure size 500x500 with 1 Axes>"
      ]
     },
     "metadata": {},
     "output_type": "display_data"
    }
   ],
   "source": [
    "import seaborn as sns\n",
    "import matplotlib.pyplot as plt\n",
    "\n",
    "# Crear un gráfico de regresión lineal usando seaborn\n",
    "sns.lmplot(x='sales', y='billing_amount', data=clients)\n",
    "# Mostrar gráfico\n",
    "plt.show()"
   ]
  },
  {
   "cell_type": "markdown",
   "metadata": {},
   "source": [
    "#### <a id='toc1_1_9_2_'></a>[Ploteado de la gráfica de relación entre variables del conjunto de datos](#toc0_)"
   ]
  },
  {
   "cell_type": "code",
   "execution_count": 18,
   "id": "716f9aec",
   "metadata": {},
   "outputs": [
    {
     "data": {
      "image/png": "[encoded data removed]",
      "text/plain": [
       "<Figure size 750x750 with 12 Axes>"
      ]
     },
     "metadata": {},
     "output_type": "display_data"
    }
   ],
   "source": [
    "# Gráfico de relación entre variables del conjunto de datos.\n",
    "sns.pairplot(clients, height=2.5)\n",
    "plt.tight_layout()\n",
    "plt.show()"
   ]
  },
  {
   "cell_type": "markdown",
   "metadata": {},
   "source": [
    "#### <a id='toc1_1_9_3_'></a>[Ploteado de la gráfica de datos de entrenamiento](#toc0_)"
   ]
  },
  {
   "cell_type": "code",
   "execution_count": 19,
   "id": "a823e39e9c10603c",
   "metadata": {
    "ExecuteTime": {
     "end_time": "2024-01-11T15:20:57.304382400Z",
     "start_time": "2024-01-11T15:20:57.162154800Z"
    },
    "collapsed": false
   },
   "outputs": [
    {
     "data": {
      "image/png": "[encoded data removed]",
      "text/plain": [
       "<Figure size 640x480 with 1 Axes>"
      ]
     },
     "metadata": {},
     "output_type": "display_data"
    }
   ],
   "source": [
    "# Graficando los datos de entrenamiento\n",
    "plt.scatter(X_train, y_train, color='blue')\n",
    "\n",
    "# Grafica de la regresión lineal con datos de la predicción\n",
    "plt.plot(X_test, y_pred, color='red')\n",
    "plt.title('Regresión Lineal Simple')\n",
    "plt.xlabel('Importe de facturación')\n",
    "plt.ylabel('Ventas')\n",
    "plt.show()"
   ]
  },
  {
   "cell_type": "markdown",
   "id": "23493ada1346e203",
   "metadata": {
    "collapsed": false
   },
   "source": [
    "Con esto ya tenemos creada una regresión lineal simple con Python.\n",
    "\n",
    "Esta última gráfica, muestra los puntos de los datos de entrenamiento en color azul y la línea de regresión lineal en rojo.\n",
    "La línea de regresión lineal representa el modelo que se ha entrenado para hacer predicciones.\n",
    "\n",
    "La interpretación de la gráfica indica que, **a medida que el número de ventas se incrementa, el importe de facturación también aumenta**. Esto se ve reflejado en la pendiente positiva de la línea de regresión. Sin embargo, esta es una interpretación basada en una sola variable, si se utilizaran más variables se podría tener una interpretación más precisa y completa."
   ]
  },
  {
   "cell_type": "markdown",
   "id": "6ee9e201",
   "metadata": {},
   "source": [
    "## <a id='toc1_2_'></a>[REGRESIÓN LINEAL (Ejemplo 2)](#toc0_)"
   ]
  },
  {
   "cell_type": "markdown",
   "metadata": {},
   "source": [
    "#### <a id='toc1_2_1_1_'></a>[Importamos librerías.](#toc0_)"
   ]
  },
  {
   "cell_type": "code",
   "execution_count": 20,
   "id": "2513d74e",
   "metadata": {},
   "outputs": [],
   "source": [
    "# Importamos las librerías necesarias\n",
    "import numpy as np\n",
    "import pandas as pd\n",
    "from sklearn.linear_model import LinearRegression\n",
    "from sklearn.model_selection import train_test_split\n",
    "from sklearn.metrics import mean_squared_error, r2_score\n",
    "import matplotlib.pyplot as plt\n",
    "import warnings\n",
    "warnings.filterwarnings('ignore')"
   ]
  },
  {
   "cell_type": "markdown",
   "metadata": {},
   "source": [
    "### <a id='toc1_2_2_'></a>[Generación del dataset simulado](#toc0_)\n",
    "Queremos predecir el precio de una vivienda (target) a partir de dos variables:\n",
    " - Tamaño en metros cuadrados (X1)\n",
    " - Número de habitaciones (X2)"
   ]
  },
  {
   "cell_type": "code",
   "execution_count": 21,
   "id": "ec7a7c79",
   "metadata": {
    "ExecuteTime": {
     "end_time": "2025-01-17T08:37:25.058850Z",
     "start_time": "2025-01-17T08:37:25.052805Z"
    }
   },
   "outputs": [],
   "source": [
    "\n",
    "np.random.seed(42)  # para reproducibilidad\n",
    "\n",
    "# Generamos 200 muestras\n",
    "n_samples = 200\n",
    "X1 = np.random.normal(loc=100, scale=20, size=n_samples)  # Tamaño en m²\n",
    "X2 = np.random.randint(1, 6, size=n_samples)  # Entre 1 y 5 habitaciones"
   ]
  },
  {
   "cell_type": "markdown",
   "id": "0ed1c320",
   "metadata": {},
   "source": [
    "Definimos una relación lineal con cierto ruido.  \n",
    "Coeficientes: 2000 €/m² y 10000 €/habitación, y un intercepto de 50000 €"
   ]
  },
  {
   "cell_type": "code",
   "execution_count": 22,
   "id": "b6f6a390",
   "metadata": {
    "ExecuteTime": {
     "end_time": "2025-01-17T08:37:30.088813Z",
     "start_time": "2025-01-17T08:37:30.082206Z"
    }
   },
   "outputs": [],
   "source": [
    "error = np.random.normal(loc=0, scale=10000, size=n_samples)  # ruido aleatorio\n",
    "y = 2000 * X1 + 10000 * X2 + 50000 + error"
   ]
  },
  {
   "cell_type": "markdown",
   "id": "0cc813da",
   "metadata": {},
   "source": [
    "Combinamos las variables predictoras en un DataFrame"
   ]
  },
  {
   "cell_type": "code",
   "execution_count": 24,
   "id": "cca2528c",
   "metadata": {
    "ExecuteTime": {
     "end_time": "2025-01-17T08:37:34.703871Z",
     "start_time": "2025-01-17T08:37:34.699377Z"
    }
   },
   "outputs": [],
   "source": [
    "data = pd.DataFrame({\n",
    "    'Tamaño_m2': X1,\n",
    "    'Num_Habitaciones': X2,\n",
    "    'Precio': y\n",
    "})"
   ]
  },
  {
   "cell_type": "code",
   "execution_count": 25,
   "id": "408c9b26",
   "metadata": {},
   "outputs": [
    {
     "name": "stdout",
     "output_type": "stream",
     "text": [
      "    Tamaño_m2  Num_Habitaciones         Precio\n",
      "0  109.934283                 2  301917.795338\n",
      "1   97.234714                 2  252502.823261\n",
      "2  112.953771                 1  293614.324819\n",
      "3  130.460597                 1  327591.755291\n",
      "4   95.316933                 1  243642.399230\n"
     ]
    }
   ],
   "source": [
    "print(data.head())"
   ]
  },
  {
   "cell_type": "markdown",
   "metadata": {},
   "source": [
    "### <a id='toc1_2_3_'></a>[División del dataset en entrenamiento y test](#toc0_)"
   ]
  },
  {
   "cell_type": "code",
   "execution_count": 26,
   "id": "8794c106",
   "metadata": {},
   "outputs": [],
   "source": [
    "X = data[['Tamaño_m2', 'Num_Habitaciones']]\n",
    "y = data['Precio']\n",
    "X_train, X_test, y_train, y_test = train_test_split(X, y, test_size=0.3, random_state=42)"
   ]
  },
  {
   "cell_type": "markdown",
   "metadata": {},
   "source": [
    "\n",
    "### <a id='toc1_2_4_'></a>[Creación y entrenamiento del modelo de regresión lineal multivariable](#toc0_)"
   ]
  },
  {
   "cell_type": "code",
   "execution_count": 27,
   "id": "92eb3cc7",
   "metadata": {
    "ExecuteTime": {
     "end_time": "2025-01-17T08:37:56.791473Z",
     "start_time": "2025-01-17T08:37:45.987662Z"
    }
   },
   "outputs": [
    {
     "data": {
      "text/html": [
       "<style>#sk-container-id-1 {\n",
       "  /* Definition of color scheme common for light and dark mode */\n",
       "  --sklearn-color-text: black;\n",
       "  --sklearn-color-line: gray;\n",
       "  /* Definition of color scheme for unfitted estimators */\n",
       "  --sklearn-color-unfitted-level-0: #fff5e6;\n",
       "  --sklearn-color-unfitted-level-1: #f6e4d2;\n",
       "  --sklearn-color-unfitted-level-2: #ffe0b3;\n",
       "  --sklearn-color-unfitted-level-3: chocolate;\n",
       "  /* Definition of color scheme for fitted estimators */\n",
       "  --sklearn-color-fitted-level-0: #f0f8ff;\n",
       "  --sklearn-color-fitted-level-1: #d4ebff;\n",
       "  --sklearn-color-fitted-level-2: #b3dbfd;\n",
       "  --sklearn-color-fitted-level-3: cornflowerblue;\n",
       "\n",
       "  /* Specific color for light theme */\n",
       "  --sklearn-color-text-on-default-background: var(--sg-text-color, var(--theme-code-foreground, var(--jp-content-font-color1, black)));\n",
       "  --sklearn-color-background: var(--sg-background-color, var(--theme-background, var(--jp-layout-color0, white)));\n",
       "  --sklearn-color-border-box: var(--sg-text-color, var(--theme-code-foreground, var(--jp-content-font-color1, black)));\n",
       "  --sklearn-color-icon: #696969;\n",
       "\n",
       "  @media (prefers-color-scheme: dark) {\n",
       "    /* Redefinition of color scheme for dark theme */\n",
       "    --sklearn-color-text-on-default-background: var(--sg-text-color, var(--theme-code-foreground, var(--jp-content-font-color1, white)));\n",
       "    --sklearn-color-background: var(--sg-background-color, var(--theme-background, var(--jp-layout-color0, #111)));\n",
       "    --sklearn-color-border-box: var(--sg-text-color, var(--theme-code-foreground, var(--jp-content-font-color1, white)));\n",
       "    --sklearn-color-icon: #878787;\n",
       "  }\n",
       "}\n",
       "\n",
       "#sk-container-id-1 {\n",
       "  color: var(--sklearn-color-text);\n",
       "}\n",
       "\n",
       "#sk-container-id-1 pre {\n",
       "  padding: 0;\n",
       "}\n",
       "\n",
       "#sk-container-id-1 input.sk-hidden--visually {\n",
       "  border: 0;\n",
       "  clip: rect(1px 1px 1px 1px);\n",
       "  clip: rect(1px, 1px, 1px, 1px);\n",
       "  height: 1px;\n",
       "  margin: -1px;\n",
       "  overflow: hidden;\n",
       "  padding: 0;\n",
       "  position: absolute;\n",
       "  width: 1px;\n",
       "}\n",
       "\n",
       "#sk-container-id-1 div.sk-dashed-wrapped {\n",
       "  border: 1px dashed var(--sklearn-color-line);\n",
       "  margin: 0 0.4em 0.5em 0.4em;\n",
       "  box-sizing: border-box;\n",
       "  padding-bottom: 0.4em;\n",
       "  background-color: var(--sklearn-color-background);\n",
       "}\n",
       "\n",
       "#sk-container-id-1 div.sk-container {\n",
       "  /* jupyter's `normalize.less` sets `[hidden] { display: none; }`\n",
       "     but bootstrap.min.css set `[hidden] { display: none !important; }`\n",
       "     so we also need the `!important` here to be able to override the\n",
       "     default hidden behavior on the sphinx rendered scikit-learn.org.\n",
       "     See: https://github.com/scikit-learn/scikit-learn/issues/21755 */\n",
       "  display: inline-block !important;\n",
       "  position: relative;\n",
       "}\n",
       "\n",
       "#sk-container-id-1 div.sk-text-repr-fallback {\n",
       "  display: none;\n",
       "}\n",
       "\n",
       "div.sk-parallel-item,\n",
       "div.sk-serial,\n",
       "div.sk-item {\n",
       "  /* draw centered vertical line to link estimators */\n",
       "  background-image: linear-gradient(var(--sklearn-color-text-on-default-background), var(--sklearn-color-text-on-default-background));\n",
       "  background-size: 2px 100%;\n",
       "  background-repeat: no-repeat;\n",
       "  background-position: center center;\n",
       "}\n",
       "\n",
       "/* Parallel-specific style estimator block */\n",
       "\n",
       "#sk-container-id-1 div.sk-parallel-item::after {\n",
       "  content: \"\";\n",
       "  width: 100%;\n",
       "  border-bottom: 2px solid var(--sklearn-color-text-on-default-background);\n",
       "  flex-grow: 1;\n",
       "}\n",
       "\n",
       "#sk-container-id-1 div.sk-parallel {\n",
       "  display: flex;\n",
       "  align-items: stretch;\n",
       "  justify-content: center;\n",
       "  background-color: var(--sklearn-color-background);\n",
       "  position: relative;\n",
       "}\n",
       "\n",
       "#sk-container-id-1 div.sk-parallel-item {\n",
       "  display: flex;\n",
       "  flex-direction: column;\n",
       "}\n",
       "\n",
       "#sk-container-id-1 div.sk-parallel-item:first-child::after {\n",
       "  align-self: flex-end;\n",
       "  width: 50%;\n",
       "}\n",
       "\n",
       "#sk-container-id-1 div.sk-parallel-item:last-child::after {\n",
       "  align-self: flex-start;\n",
       "  width: 50%;\n",
       "}\n",
       "\n",
       "#sk-container-id-1 div.sk-parallel-item:only-child::after {\n",
       "  width: 0;\n",
       "}\n",
       "\n",
       "/* Serial-specific style estimator block */\n",
       "\n",
       "#sk-container-id-1 div.sk-serial {\n",
       "  display: flex;\n",
       "  flex-direction: column;\n",
       "  align-items: center;\n",
       "  background-color: var(--sklearn-color-background);\n",
       "  padding-right: 1em;\n",
       "  padding-left: 1em;\n",
       "}\n",
       "\n",
       "\n",
       "/* Toggleable style: style used for estimator/Pipeline/ColumnTransformer box that is\n",
       "clickable and can be expanded/collapsed.\n",
       "- Pipeline and ColumnTransformer use this feature and define the default style\n",
       "- Estimators will overwrite some part of the style using the `sk-estimator` class\n",
       "*/\n",
       "\n",
       "/* Pipeline and ColumnTransformer style (default) */\n",
       "\n",
       "#sk-container-id-1 div.sk-toggleable {\n",
       "  /* Default theme specific background. It is overwritten whether we have a\n",
       "  specific estimator or a Pipeline/ColumnTransformer */\n",
       "  background-color: var(--sklearn-color-background);\n",
       "}\n",
       "\n",
       "/* Toggleable label */\n",
       "#sk-container-id-1 label.sk-toggleable__label {\n",
       "  cursor: pointer;\n",
       "  display: block;\n",
       "  width: 100%;\n",
       "  margin-bottom: 0;\n",
       "  padding: 0.5em;\n",
       "  box-sizing: border-box;\n",
       "  text-align: center;\n",
       "}\n",
       "\n",
       "#sk-container-id-1 label.sk-toggleable__label-arrow:before {\n",
       "  /* Arrow on the left of the label */\n",
       "  content: \"▸\";\n",
       "  float: left;\n",
       "  margin-right: 0.25em;\n",
       "  color: var(--sklearn-color-icon);\n",
       "}\n",
       "\n",
       "#sk-container-id-1 label.sk-toggleable__label-arrow:hover:before {\n",
       "  color: var(--sklearn-color-text);\n",
       "}\n",
       "\n",
       "/* Toggleable content - dropdown */\n",
       "\n",
       "#sk-container-id-1 div.sk-toggleable__content {\n",
       "  max-height: 0;\n",
       "  max-width: 0;\n",
       "  overflow: hidden;\n",
       "  text-align: left;\n",
       "  /* unfitted */\n",
       "  background-color: var(--sklearn-color-unfitted-level-0);\n",
       "}\n",
       "\n",
       "#sk-container-id-1 div.sk-toggleable__content.fitted {\n",
       "  /* fitted */\n",
       "  background-color: var(--sklearn-color-fitted-level-0);\n",
       "}\n",
       "\n",
       "#sk-container-id-1 div.sk-toggleable__content pre {\n",
       "  margin: 0.2em;\n",
       "  border-radius: 0.25em;\n",
       "  color: var(--sklearn-color-text);\n",
       "  /* unfitted */\n",
       "  background-color: var(--sklearn-color-unfitted-level-0);\n",
       "}\n",
       "\n",
       "#sk-container-id-1 div.sk-toggleable__content.fitted pre {\n",
       "  /* unfitted */\n",
       "  background-color: var(--sklearn-color-fitted-level-0);\n",
       "}\n",
       "\n",
       "#sk-container-id-1 input.sk-toggleable__control:checked~div.sk-toggleable__content {\n",
       "  /* Expand drop-down */\n",
       "  max-height: 200px;\n",
       "  max-width: 100%;\n",
       "  overflow: auto;\n",
       "}\n",
       "\n",
       "#sk-container-id-1 input.sk-toggleable__control:checked~label.sk-toggleable__label-arrow:before {\n",
       "  content: \"▾\";\n",
       "}\n",
       "\n",
       "/* Pipeline/ColumnTransformer-specific style */\n",
       "\n",
       "#sk-container-id-1 div.sk-label input.sk-toggleable__control:checked~label.sk-toggleable__label {\n",
       "  color: var(--sklearn-color-text);\n",
       "  background-color: var(--sklearn-color-unfitted-level-2);\n",
       "}\n",
       "\n",
       "#sk-container-id-1 div.sk-label.fitted input.sk-toggleable__control:checked~label.sk-toggleable__label {\n",
       "  background-color: var(--sklearn-color-fitted-level-2);\n",
       "}\n",
       "\n",
       "/* Estimator-specific style */\n",
       "\n",
       "/* Colorize estimator box */\n",
       "#sk-container-id-1 div.sk-estimator input.sk-toggleable__control:checked~label.sk-toggleable__label {\n",
       "  /* unfitted */\n",
       "  background-color: var(--sklearn-color-unfitted-level-2);\n",
       "}\n",
       "\n",
       "#sk-container-id-1 div.sk-estimator.fitted input.sk-toggleable__control:checked~label.sk-toggleable__label {\n",
       "  /* fitted */\n",
       "  background-color: var(--sklearn-color-fitted-level-2);\n",
       "}\n",
       "\n",
       "#sk-container-id-1 div.sk-label label.sk-toggleable__label,\n",
       "#sk-container-id-1 div.sk-label label {\n",
       "  /* The background is the default theme color */\n",
       "  color: var(--sklearn-color-text-on-default-background);\n",
       "}\n",
       "\n",
       "/* On hover, darken the color of the background */\n",
       "#sk-container-id-1 div.sk-label:hover label.sk-toggleable__label {\n",
       "  color: var(--sklearn-color-text);\n",
       "  background-color: var(--sklearn-color-unfitted-level-2);\n",
       "}\n",
       "\n",
       "/* Label box, darken color on hover, fitted */\n",
       "#sk-container-id-1 div.sk-label.fitted:hover label.sk-toggleable__label.fitted {\n",
       "  color: var(--sklearn-color-text);\n",
       "  background-color: var(--sklearn-color-fitted-level-2);\n",
       "}\n",
       "\n",
       "/* Estimator label */\n",
       "\n",
       "#sk-container-id-1 div.sk-label label {\n",
       "  font-family: monospace;\n",
       "  font-weight: bold;\n",
       "  display: inline-block;\n",
       "  line-height: 1.2em;\n",
       "}\n",
       "\n",
       "#sk-container-id-1 div.sk-label-container {\n",
       "  text-align: center;\n",
       "}\n",
       "\n",
       "/* Estimator-specific */\n",
       "#sk-container-id-1 div.sk-estimator {\n",
       "  font-family: monospace;\n",
       "  border: 1px dotted var(--sklearn-color-border-box);\n",
       "  border-radius: 0.25em;\n",
       "  box-sizing: border-box;\n",
       "  margin-bottom: 0.5em;\n",
       "  /* unfitted */\n",
       "  background-color: var(--sklearn-color-unfitted-level-0);\n",
       "}\n",
       "\n",
       "#sk-container-id-1 div.sk-estimator.fitted {\n",
       "  /* fitted */\n",
       "  background-color: var(--sklearn-color-fitted-level-0);\n",
       "}\n",
       "\n",
       "/* on hover */\n",
       "#sk-container-id-1 div.sk-estimator:hover {\n",
       "  /* unfitted */\n",
       "  background-color: var(--sklearn-color-unfitted-level-2);\n",
       "}\n",
       "\n",
       "#sk-container-id-1 div.sk-estimator.fitted:hover {\n",
       "  /* fitted */\n",
       "  background-color: var(--sklearn-color-fitted-level-2);\n",
       "}\n",
       "\n",
       "/* Specification for estimator info (e.g. \"i\" and \"?\") */\n",
       "\n",
       "/* Common style for \"i\" and \"?\" */\n",
       "\n",
       ".sk-estimator-doc-link,\n",
       "a:link.sk-estimator-doc-link,\n",
       "a:visited.sk-estimator-doc-link {\n",
       "  float: right;\n",
       "  font-size: smaller;\n",
       "  line-height: 1em;\n",
       "  font-family: monospace;\n",
       "  background-color: var(--sklearn-color-background);\n",
       "  border-radius: 1em;\n",
       "  height: 1em;\n",
       "  width: 1em;\n",
       "  text-decoration: none !important;\n",
       "  margin-left: 1ex;\n",
       "  /* unfitted */\n",
       "  border: var(--sklearn-color-unfitted-level-1) 1pt solid;\n",
       "  color: var(--sklearn-color-unfitted-level-1);\n",
       "}\n",
       "\n",
       ".sk-estimator-doc-link.fitted,\n",
       "a:link.sk-estimator-doc-link.fitted,\n",
       "a:visited.sk-estimator-doc-link.fitted {\n",
       "  /* fitted */\n",
       "  border: var(--sklearn-color-fitted-level-1) 1pt solid;\n",
       "  color: var(--sklearn-color-fitted-level-1);\n",
       "}\n",
       "\n",
       "/* On hover */\n",
       "div.sk-estimator:hover .sk-estimator-doc-link:hover,\n",
       ".sk-estimator-doc-link:hover,\n",
       "div.sk-label-container:hover .sk-estimator-doc-link:hover,\n",
       ".sk-estimator-doc-link:hover {\n",
       "  /* unfitted */\n",
       "  background-color: var(--sklearn-color-unfitted-level-3);\n",
       "  color: var(--sklearn-color-background);\n",
       "  text-decoration: none;\n",
       "}\n",
       "\n",
       "div.sk-estimator.fitted:hover .sk-estimator-doc-link.fitted:hover,\n",
       ".sk-estimator-doc-link.fitted:hover,\n",
       "div.sk-label-container:hover .sk-estimator-doc-link.fitted:hover,\n",
       ".sk-estimator-doc-link.fitted:hover {\n",
       "  /* fitted */\n",
       "  background-color: var(--sklearn-color-fitted-level-3);\n",
       "  color: var(--sklearn-color-background);\n",
       "  text-decoration: none;\n",
       "}\n",
       "\n",
       "/* Span, style for the box shown on hovering the info icon */\n",
       ".sk-estimator-doc-link span {\n",
       "  display: none;\n",
       "  z-index: 9999;\n",
       "  position: relative;\n",
       "  font-weight: normal;\n",
       "  right: .2ex;\n",
       "  padding: .5ex;\n",
       "  margin: .5ex;\n",
       "  width: min-content;\n",
       "  min-width: 20ex;\n",
       "  max-width: 50ex;\n",
       "  color: var(--sklearn-color-text);\n",
       "  box-shadow: 2pt 2pt 4pt #999;\n",
       "  /* unfitted */\n",
       "  background: var(--sklearn-color-unfitted-level-0);\n",
       "  border: .5pt solid var(--sklearn-color-unfitted-level-3);\n",
       "}\n",
       "\n",
       ".sk-estimator-doc-link.fitted span {\n",
       "  /* fitted */\n",
       "  background: var(--sklearn-color-fitted-level-0);\n",
       "  border: var(--sklearn-color-fitted-level-3);\n",
       "}\n",
       "\n",
       ".sk-estimator-doc-link:hover span {\n",
       "  display: block;\n",
       "}\n",
       "\n",
       "/* \"?\"-specific style due to the `<a>` HTML tag */\n",
       "\n",
       "#sk-container-id-1 a.estimator_doc_link {\n",
       "  float: right;\n",
       "  font-size: 1rem;\n",
       "  line-height: 1em;\n",
       "  font-family: monospace;\n",
       "  background-color: var(--sklearn-color-background);\n",
       "  border-radius: 1rem;\n",
       "  height: 1rem;\n",
       "  width: 1rem;\n",
       "  text-decoration: none;\n",
       "  /* unfitted */\n",
       "  color: var(--sklearn-color-unfitted-level-1);\n",
       "  border: var(--sklearn-color-unfitted-level-1) 1pt solid;\n",
       "}\n",
       "\n",
       "#sk-container-id-1 a.estimator_doc_link.fitted {\n",
       "  /* fitted */\n",
       "  border: var(--sklearn-color-fitted-level-1) 1pt solid;\n",
       "  color: var(--sklearn-color-fitted-level-1);\n",
       "}\n",
       "\n",
       "/* On hover */\n",
       "#sk-container-id-1 a.estimator_doc_link:hover {\n",
       "  /* unfitted */\n",
       "  background-color: var(--sklearn-color-unfitted-level-3);\n",
       "  color: var(--sklearn-color-background);\n",
       "  text-decoration: none;\n",
       "}\n",
       "\n",
       "#sk-container-id-1 a.estimator_doc_link.fitted:hover {\n",
       "  /* fitted */\n",
       "  background-color: var(--sklearn-color-fitted-level-3);\n",
       "}\n",
       "</style><div id=\"sk-container-id-1\" class=\"sk-top-container\"><div class=\"sk-text-repr-fallback\"><pre>LinearRegression()</pre><b>In a Jupyter environment, please rerun this cell to show the HTML representation or trust the notebook. <br />On GitHub, the HTML representation is unable to render, please try loading this page with nbviewer.org.</b></div><div class=\"sk-container\" hidden><div class=\"sk-item\"><div class=\"sk-estimator fitted sk-toggleable\"><input class=\"sk-toggleable__control sk-hidden--visually\" id=\"sk-estimator-id-1\" type=\"checkbox\" checked><label for=\"sk-estimator-id-1\" class=\"sk-toggleable__label fitted sk-toggleable__label-arrow fitted\">&nbsp;&nbsp;LinearRegression<a class=\"sk-estimator-doc-link fitted\" rel=\"noreferrer\" target=\"_blank\" href=\"https://scikit-learn.org/1.4/modules/generated/sklearn.linear_model.LinearRegression.html\">?<span>Documentation for LinearRegression</span></a><span class=\"sk-estimator-doc-link fitted\">i<span>Fitted</span></span></label><div class=\"sk-toggleable__content fitted\"><pre>LinearRegression()</pre></div> </div></div></div></div>"
      ],
      "text/plain": [
       "LinearRegression()"
      ]
     },
     "execution_count": 27,
     "metadata": {},
     "output_type": "execute_result"
    }
   ],
   "source": [
    "modelo = LinearRegression()\n",
    "modelo.fit(X_train, y_train)"
   ]
  },
  {
   "cell_type": "markdown",
   "id": "bea4e435",
   "metadata": {},
   "source": [
    "Imprimimos los coeficientes y el intercepto obtenidos"
   ]
  },
  {
   "cell_type": "code",
   "execution_count": 28,
   "id": "d2b1c48a",
   "metadata": {},
   "outputs": [
    {
     "name": "stdout",
     "output_type": "stream",
     "text": [
      "Intercepto (b₀): 57937.81951953235\n",
      "Coeficientes (b₁, b₂): [1934.71153978 9749.68263101]\n"
     ]
    }
   ],
   "source": [
    "\n",
    "print(\"Intercepto (b₀):\", modelo.intercept_)\n",
    "print(\"Coeficientes (b₁, b₂):\", modelo.coef_)"
   ]
  },
  {
   "cell_type": "markdown",
   "metadata": {},
   "source": [
    "### <a id='toc1_2_5_'></a>[Evaluación del modelo con el conjunto de test](#toc0_)"
   ]
  },
  {
   "cell_type": "code",
   "execution_count": 29,
   "id": "4fe9f9a5",
   "metadata": {},
   "outputs": [
    {
     "name": "stdout",
     "output_type": "stream",
     "text": [
      "\n",
      "Evaluación del modelo:\n",
      "Error Cuadrático Medio (MSE): 91368642.96252204\n",
      "Raíz del Error Cuadrático Medio (RMSE): 9558.694626491739\n",
      "Coeficiente de determinación (R²): 0.9423903718304877\n"
     ]
    }
   ],
   "source": [
    "\n",
    "y_pred = modelo.predict(X_test)\n",
    "mse = mean_squared_error(y_test, y_pred)\n",
    "r2 = r2_score(y_test, y_pred)\n",
    "\n",
    "print(\"\\nEvaluación del modelo:\")\n",
    "print(\"Error Cuadrático Medio (MSE):\", mse)\n",
    "print(\"Raíz del Error Cuadrático Medio (RMSE):\", np.sqrt(mse))\n",
    "print(\"Coeficiente de determinación (R²):\", r2)"
   ]
  },
  {
   "cell_type": "markdown",
   "metadata": {},
   "source": [
    "### <a id='toc1_2_6_'></a>[Raíz del Error Cuadrático Medio (RMSE)](#toc0_)\n",
    "\n",
    "Se calcula tomando la raíz cuadrada de MSE. Es conocida también como la desviación cuadrática media. Mide la magnitud promedio de los errores y se ocupa de las desviaciones del valor real. Es una estadística imperfecta para la evaluación, pero es muy común.    \n",
    "Se puede tomar el RMSE como la \"distancia promedio\" entre los puntos de información reales y la línea (o plano) que el modelo \"ha dibujado\" para representarlos.\n",
    "Si se considera el penalizar errores grandes, no es una mala opción. Es una excelente opción para una métrica de pérdida cuando se ajustan los HiperParametros o se entrena por bloque una red neuronal profunda.\n",
    "\n",
    "Consideraciones:\n",
    "\n",
    "- RMSE con valor 0 indica que el modelo tiene un ajuste perfecto.\n",
    "- Cuanto menor sea el RMSE, mejor será el modelo y sus predicciones.\n",
    "- Se expresa en las mismas unidades que la variable que se intenta predecir. Si se quiere predecir el precio de una vivienda en euros, un RMSE de 5.000 significa que, de media, el error de predicción del modelo es de 5.000 €."
   ]
  },
  {
   "cell_type": "code",
   "execution_count": 31,
   "id": "6b690768",
   "metadata": {},
   "outputs": [
    {
     "name": "stdout",
     "output_type": "stream",
     "text": [
      "Raíz del Error Cuadrático Medio (RMSE): 9558.694626491739\n"
     ]
    }
   ],
   "source": [
    "print(\"Raíz del Error Cuadrático Medio (RMSE):\", np.sqrt(mse))"
   ]
  },
  {
   "cell_type": "markdown",
   "metadata": {},
   "source": [
    "### <a id='toc1_2_7_'></a>[Coeficiente Determinación (R2)](#toc0_)\n",
    "\n",
    "También conocido como prueba de bondad de ajuste, y como se ha visto anteriormente, es una métrica que indica el rendimiento del modelo, explicando qué **proporción de variabilidad** de la variable dependiente (o variable objetivo) puede ser explicada por la variable (o variables) independiente.\n",
    "\n",
    "En otras palabras, representa la ***\"fuerza del ajuste\"*** de que tan bien se ajusta el modelo a las observaciones reales que tenemos, sin embargo, no dice nada sobre el modelo en sí, no indica si es bueno malo, si los datos están sesgados o si hemos elegido el método correcto.\n",
    "\n",
    "Consideraciones:\n",
    "\n",
    "El valor de R² varía de 0 a 1; los valores más altos indican un ajuste fuerte y los valores más bajos indican un ajuste débil.\n",
    "\n",
    "- R² < 0,5 → Ajuste débil. El modelo no explica nada de la variabilidad de los datos. Básicamente, no es mejor que simplemente usar el promedio de la variable objetivo como predicción.\n",
    "- 0,5 ≤ R² ≤ 0,8 → Ajuste moderado. \n",
    "- R² > 0,8 → Ajuste fuerte. El modelo explica el 80% de la variabilidad de la variable objetivo. El 20% restante se debe a otros factores (variables que no incluiste, aleatoriedad, etc.).\n",
    "- R² = 1 → Ajuste perfecto. El modelo explica toda la variabilidad de los datos. Esto significa que las predicciones son perfectas. En la práctica, esto es muy raro y a menudo es señal de un problema (como el sobreajuste o overfitting).\n",
    "\n"
   ]
  },
  {
   "cell_type": "code",
   "execution_count": 32,
   "id": "c6999f3a",
   "metadata": {},
   "outputs": [
    {
     "name": "stdout",
     "output_type": "stream",
     "text": [
      "Coeficiente de determinación (R²): 0.9423903718304877\n"
     ]
    }
   ],
   "source": [
    "print(\"Coeficiente de determinación (R²):\", r2)"
   ]
  },
  {
   "cell_type": "markdown",
   "id": "50b50fbe",
   "metadata": {},
   "source": [
    "### <a id='toc1_2_8_'></a>[Análisis evaluativo del modelo](#toc0_)\n",
    "Dado que la variable dependiente es un **precio** y se encuentra en el rango de **cientos de miles**, podemos interpretar los resultados de la siguiente manera:\n",
    "\n",
    "1. **R² (0.9423)**  \n",
    "   - Indica que aproximadamente el **94.23%** de la variabilidad en los precios está siendo explicada por el modelo, lo cual es muy elevado y sugiere que el modelo capta gran parte de los factores que inciden en el precio.\n",
    "\n",
    "2. **MSE (~ 91,368,642.96) y RMSE (~ 9,558.69)**  \n",
    "   - El **RMSE** se interpreta en las mismas unidades de la variable objetivo: aquí, en términos monetarios.  \n",
    "   - Si los precios promedio se ubican, por ejemplo, alrededor de 200,000 o 300,000, un error de unos 9,558 podría representar un error relativo del **3% al 5%** aproximadamente, lo cual puede considerarse razonable o incluso bueno en muchos contextos de predicción de precios.  \n",
    "   - Conviene siempre compararlo con el rango real de precios. Si la mayoría de las propiedades se sitúan en 250,000 - 350,000, un error promedio de 9,558 puede ser un margen aceptable.  \n",
    "\n",
    "**Interpretación general del modelo**  \n",
    "   - El **alto valor de R²** (0.94) y un **RMSE moderado** en el contexto de precios de cientos de miles de unidades monetarias sugieren que el modelo está funcionando de manera adecuada.  \n",
    "   - Sería prudente, además, la **distribución de errores** (por ejemplo, si hay viviendas muy costosas o muy baratas que elevan el error de manera significativa o si hay heterocedasticidad (mayor dispersión para valores mayores y menor dispersión para valores menores de la variable objetivo/dependiente)) puede ayudar a detectar posibles problemas en segmentos específicos del rango de precios.  \n",
    "\n",
    "En conclusión, dada la escala de cientos de miles, un **RMSE de aproximadamente 9,558** parece aceptable y, combinado con un **R² de 0.94**, indica que el modelo logra explicar la mayor parte de la variación en el precio y lo hace con un margen de error relativamente bajo en términos porcentuales. "
   ]
  },
  {
   "cell_type": "markdown",
   "metadata": {},
   "source": [
    "### <a id='toc1_2_9_'></a>[Realización de una predicción sobre datos ficticios](#toc0_)\n",
    "Supongamos una vivienda de 120 m² y 3 habitaciones"
   ]
  },
  {
   "cell_type": "code",
   "execution_count": 33,
   "id": "63486736",
   "metadata": {},
   "outputs": [
    {
     "name": "stdout",
     "output_type": "stream",
     "text": [
      "\n",
      "Predicción para una vivienda de 120 m² y 3 habitaciones: 319352.252185602\n"
     ]
    }
   ],
   "source": [
    "nuevos_datos = np.array([[120, 3]])\n",
    "prediccion = modelo.predict(nuevos_datos)\n",
    "print(\"\\nPredicción para una vivienda de 120 m² y 3 habitaciones:\", prediccion[0])"
   ]
  },
  {
   "cell_type": "markdown",
   "metadata": {},
   "source": [
    "### <a id='toc1_2_10_'></a>[Visualización](#toc0_)\n",
    "Aunque la regresión es multivariable y la visualización completa es compleja,\n",
    "graficaremos la relación real vs. predicha en el conjunto de test."
   ]
  },
  {
   "cell_type": "code",
   "execution_count": 34,
   "id": "24fe0bd6",
   "metadata": {},
   "outputs": [
    {
     "data": {
      "image/png": "[encoded data removed]",
      "text/plain": [
       "<Figure size 640x480 with 1 Axes>"
      ]
     },
     "metadata": {},
     "output_type": "display_data"
    }
   ],
   "source": [
    "plt.scatter(y_test, y_pred, color='blue', alpha=0.6)\n",
    "plt.plot([y_test.min(), y_test.max()], [y_test.min(), y_test.max()], color='red', linewidth=2)\n",
    "plt.xlabel('Valores reales')\n",
    "plt.ylabel('Valores predichos')\n",
    "plt.title('Regresión Lineal Multivariable: Valores reales vs Predichos')\n",
    "plt.show()"
   ]
  },
  {
   "cell_type": "markdown",
   "metadata": {},
   "source": [
    "## <a id='toc1_4_'></a>[REGRESIÓN LINEAL - (Ejemplo 3)](#toc0_)"
   ]
  },
  {
   "cell_type": "code",
   "execution_count": 35,
   "id": "916b0b1c",
   "metadata": {},
   "outputs": [],
   "source": [
    "import numpy as np\n",
    "import pandas as pd\n",
    "import matplotlib.pyplot as plt\n",
    "import seaborn as sns\n",
    "from sklearn.model_selection import train_test_split\n",
    "from sklearn.linear_model import LinearRegression\n",
    "from sklearn import metrics\n",
    "\n",
    "%matplotlib inline"
   ]
  },
  {
   "cell_type": "code",
   "execution_count": 36,
   "id": "080665a9",
   "metadata": {},
   "outputs": [],
   "source": [
    "from sklearn import datasets"
   ]
  },
  {
   "cell_type": "code",
   "execution_count": 41,
   "id": "2f122d8b",
   "metadata": {},
   "outputs": [
    {
     "data": {
      "text/html": [
       "<div>\n",
       "<style scoped>\n",
       "    .dataframe tbody tr th:only-of-type {\n",
       "        vertical-align: middle;\n",
       "    }\n",
       "\n",
       "    .dataframe tbody tr th {\n",
       "        vertical-align: top;\n",
       "    }\n",
       "\n",
       "    .dataframe thead th {\n",
       "        text-align: right;\n",
       "    }\n",
       "</style>\n",
       "<table border=\"1\" class=\"dataframe\">\n",
       "  <thead>\n",
       "    <tr style=\"text-align: right;\">\n",
       "      <th></th>\n",
       "      <th>TOWN</th>\n",
       "      <th>TRACT</th>\n",
       "      <th>LON</th>\n",
       "      <th>LAT</th>\n",
       "      <th>MEDV</th>\n",
       "      <th>CRIM</th>\n",
       "      <th>ZN</th>\n",
       "      <th>INDUS</th>\n",
       "      <th>CHAS</th>\n",
       "      <th>NOX</th>\n",
       "      <th>RM</th>\n",
       "      <th>AGE</th>\n",
       "      <th>DIS</th>\n",
       "      <th>RAD</th>\n",
       "      <th>TAX</th>\n",
       "      <th>PTRATIO</th>\n",
       "    </tr>\n",
       "  </thead>\n",
       "  <tbody>\n",
       "    <tr>\n",
       "      <th>0</th>\n",
       "      <td>Nahant</td>\n",
       "      <td>2011</td>\n",
       "      <td>-70.955</td>\n",
       "      <td>42.2550</td>\n",
       "      <td>24.0</td>\n",
       "      <td>0.00632</td>\n",
       "      <td>18.0</td>\n",
       "      <td>2.31</td>\n",
       "      <td>0</td>\n",
       "      <td>0.538</td>\n",
       "      <td>6.575</td>\n",
       "      <td>65.2</td>\n",
       "      <td>4.0900</td>\n",
       "      <td>1</td>\n",
       "      <td>296</td>\n",
       "      <td>15.3</td>\n",
       "    </tr>\n",
       "    <tr>\n",
       "      <th>1</th>\n",
       "      <td>Swampscott</td>\n",
       "      <td>2021</td>\n",
       "      <td>-70.950</td>\n",
       "      <td>42.2875</td>\n",
       "      <td>21.6</td>\n",
       "      <td>0.02731</td>\n",
       "      <td>0.0</td>\n",
       "      <td>7.07</td>\n",
       "      <td>0</td>\n",
       "      <td>0.469</td>\n",
       "      <td>6.421</td>\n",
       "      <td>78.9</td>\n",
       "      <td>4.9671</td>\n",
       "      <td>2</td>\n",
       "      <td>242</td>\n",
       "      <td>17.8</td>\n",
       "    </tr>\n",
       "    <tr>\n",
       "      <th>2</th>\n",
       "      <td>Swampscott</td>\n",
       "      <td>2022</td>\n",
       "      <td>-70.936</td>\n",
       "      <td>42.2830</td>\n",
       "      <td>34.7</td>\n",
       "      <td>0.02729</td>\n",
       "      <td>0.0</td>\n",
       "      <td>7.07</td>\n",
       "      <td>0</td>\n",
       "      <td>0.469</td>\n",
       "      <td>7.185</td>\n",
       "      <td>61.1</td>\n",
       "      <td>4.9671</td>\n",
       "      <td>2</td>\n",
       "      <td>242</td>\n",
       "      <td>17.8</td>\n",
       "    </tr>\n",
       "    <tr>\n",
       "      <th>3</th>\n",
       "      <td>Marblehead</td>\n",
       "      <td>2031</td>\n",
       "      <td>-70.928</td>\n",
       "      <td>42.2930</td>\n",
       "      <td>33.4</td>\n",
       "      <td>0.03237</td>\n",
       "      <td>0.0</td>\n",
       "      <td>2.18</td>\n",
       "      <td>0</td>\n",
       "      <td>0.458</td>\n",
       "      <td>6.998</td>\n",
       "      <td>45.8</td>\n",
       "      <td>6.0622</td>\n",
       "      <td>3</td>\n",
       "      <td>222</td>\n",
       "      <td>18.7</td>\n",
       "    </tr>\n",
       "    <tr>\n",
       "      <th>4</th>\n",
       "      <td>Marblehead</td>\n",
       "      <td>2032</td>\n",
       "      <td>-70.922</td>\n",
       "      <td>42.2980</td>\n",
       "      <td>36.2</td>\n",
       "      <td>0.06905</td>\n",
       "      <td>0.0</td>\n",
       "      <td>2.18</td>\n",
       "      <td>0</td>\n",
       "      <td>0.458</td>\n",
       "      <td>7.147</td>\n",
       "      <td>54.2</td>\n",
       "      <td>6.0622</td>\n",
       "      <td>3</td>\n",
       "      <td>222</td>\n",
       "      <td>18.7</td>\n",
       "    </tr>\n",
       "  </tbody>\n",
       "</table>\n",
       "</div>"
      ],
      "text/plain": [
       "         TOWN  TRACT     LON      LAT  MEDV     CRIM    ZN  INDUS  CHAS  \\\n",
       "0      Nahant   2011 -70.955  42.2550  24.0  0.00632  18.0   2.31     0   \n",
       "1  Swampscott   2021 -70.950  42.2875  21.6  0.02731   0.0   7.07     0   \n",
       "2  Swampscott   2022 -70.936  42.2830  34.7  0.02729   0.0   7.07     0   \n",
       "3  Marblehead   2031 -70.928  42.2930  33.4  0.03237   0.0   2.18     0   \n",
       "4  Marblehead   2032 -70.922  42.2980  36.2  0.06905   0.0   2.18     0   \n",
       "\n",
       "     NOX     RM   AGE     DIS  RAD  TAX  PTRATIO  \n",
       "0  0.538  6.575  65.2  4.0900    1  296     15.3  \n",
       "1  0.469  6.421  78.9  4.9671    2  242     17.8  \n",
       "2  0.469  7.185  61.1  4.9671    2  242     17.8  \n",
       "3  0.458  6.998  45.8  6.0622    3  222     18.7  \n",
       "4  0.458  7.147  54.2  6.0622    3  222     18.7  "
      ]
     },
     "execution_count": 41,
     "metadata": {},
     "output_type": "execute_result"
    }
   ],
   "source": [
    "housing_dataset =  pd.read_csv('/home/jordi/Documentos/Ribera/Curso_25_26/CEIABD/CEIABD_25_26/SISTEMAS_APRENDIZAJE_AUTOMATICO_25_26/NOTEBOOKS DEL AULA/Aprendizaje Supervisado/datasets/bostonDataset.csv')  \n",
    "housing_dataset.head()"
   ]
  },
  {
   "cell_type": "code",
   "execution_count": 42,
   "id": "b312fd4e",
   "metadata": {},
   "outputs": [
    {
     "data": {
      "text/plain": [
       "(506, 16)"
      ]
     },
     "execution_count": 42,
     "metadata": {},
     "output_type": "execute_result"
    }
   ],
   "source": [
    "housing_dataset.shape"
   ]
  },
  {
   "cell_type": "markdown",
   "id": "0acc035b",
   "metadata": {},
   "source": [
    "Eliminamos columna TOWN (es una String)"
   ]
  },
  {
   "cell_type": "code",
   "execution_count": 43,
   "id": "d1db548c",
   "metadata": {},
   "outputs": [],
   "source": [
    "housing_dataset.drop(['TOWN'], axis='columns', inplace=True)"
   ]
  },
  {
   "cell_type": "markdown",
   "id": "efdfb515",
   "metadata": {},
   "source": [
    "- CRIM - índice de delincuencia per cápita por ciudad\n",
    "- ZN - proporción de suelo residencial para parcelas de más de 25.000 pies cuadrados\n",
    "- INDUS - proporción de acres comerciales no minoristas por ciudad\n",
    "- CHAS - Variable ficticia del río Charles (= 1 si la zona linda con el río; 0 en caso contrario)\n",
    "- NOX - concentración de óxidos nítricos (partes por 10 millones)\n",
    "- RM - número medio de habitaciones por vivienda\n",
    "- EDAD - proporción de unidades ocupadas por sus propietarios construidas antes de 1940\n",
    "- DIS - distancias ponderadas a cinco centros de empleo de Boston\n",
    "- RAD - índice de accesibilidad a autopistas radiales\n",
    "- TAX - tipo del impuesto sobre bienes inmuebles por cada 10.000 dólares\n",
    "- PTRATIO - ratio alumnos-profesor por ciudad\n",
    "- B - 1000(Bk - 0,63)^2 donde Bk es la proporción de negros por ciudad\n",
    "- LSTAT - % de estatus inferior de la población\n",
    "- MEDV - Valor medio de las viviendas ocupadas por sus propietarios en 1000 $ (objetivo)"
   ]
  },
  {
   "cell_type": "markdown",
   "id": "66273969",
   "metadata": {},
   "source": [
    "Seguidamente, calculamos la correlación entre cada par de variables, usando la función ```.corr()```:"
   ]
  },
  {
   "cell_type": "code",
   "execution_count": 44,
   "id": "d62db792",
   "metadata": {},
   "outputs": [
    {
     "data": {
      "text/html": [
       "<div>\n",
       "<style scoped>\n",
       "    .dataframe tbody tr th:only-of-type {\n",
       "        vertical-align: middle;\n",
       "    }\n",
       "\n",
       "    .dataframe tbody tr th {\n",
       "        vertical-align: top;\n",
       "    }\n",
       "\n",
       "    .dataframe thead th {\n",
       "        text-align: right;\n",
       "    }\n",
       "</style>\n",
       "<table border=\"1\" class=\"dataframe\">\n",
       "  <thead>\n",
       "    <tr style=\"text-align: right;\">\n",
       "      <th></th>\n",
       "      <th>TRACT</th>\n",
       "      <th>LON</th>\n",
       "      <th>LAT</th>\n",
       "      <th>MEDV</th>\n",
       "      <th>CRIM</th>\n",
       "      <th>ZN</th>\n",
       "      <th>INDUS</th>\n",
       "      <th>CHAS</th>\n",
       "      <th>NOX</th>\n",
       "      <th>RM</th>\n",
       "      <th>AGE</th>\n",
       "      <th>DIS</th>\n",
       "      <th>RAD</th>\n",
       "      <th>TAX</th>\n",
       "      <th>PTRATIO</th>\n",
       "    </tr>\n",
       "  </thead>\n",
       "  <tbody>\n",
       "    <tr>\n",
       "      <th>TRACT</th>\n",
       "      <td>1.000000</td>\n",
       "      <td>-0.220890</td>\n",
       "      <td>-0.225543</td>\n",
       "      <td>0.428252</td>\n",
       "      <td>-0.547165</td>\n",
       "      <td>0.367292</td>\n",
       "      <td>-0.575705</td>\n",
       "      <td>0.041356</td>\n",
       "      <td>-0.569807</td>\n",
       "      <td>0.305207</td>\n",
       "      <td>-0.487465</td>\n",
       "      <td>0.496841</td>\n",
       "      <td>-0.828829</td>\n",
       "      <td>-0.793602</td>\n",
       "      <td>-0.532678</td>\n",
       "    </tr>\n",
       "    <tr>\n",
       "      <th>LON</th>\n",
       "      <td>-0.220890</td>\n",
       "      <td>1.000000</td>\n",
       "      <td>0.143054</td>\n",
       "      <td>-0.322947</td>\n",
       "      <td>0.065101</td>\n",
       "      <td>-0.218081</td>\n",
       "      <td>0.062702</td>\n",
       "      <td>-0.175619</td>\n",
       "      <td>0.160871</td>\n",
       "      <td>-0.257110</td>\n",
       "      <td>0.204739</td>\n",
       "      <td>-0.011243</td>\n",
       "      <td>0.034067</td>\n",
       "      <td>0.050663</td>\n",
       "      <td>0.312602</td>\n",
       "    </tr>\n",
       "    <tr>\n",
       "      <th>LAT</th>\n",
       "      <td>-0.225543</td>\n",
       "      <td>0.143054</td>\n",
       "      <td>1.000000</td>\n",
       "      <td>0.006826</td>\n",
       "      <td>-0.084293</td>\n",
       "      <td>-0.129667</td>\n",
       "      <td>-0.041093</td>\n",
       "      <td>-0.044726</td>\n",
       "      <td>-0.068600</td>\n",
       "      <td>-0.069317</td>\n",
       "      <td>0.079035</td>\n",
       "      <td>-0.082981</td>\n",
       "      <td>-0.207013</td>\n",
       "      <td>-0.167718</td>\n",
       "      <td>-0.004527</td>\n",
       "    </tr>\n",
       "    <tr>\n",
       "      <th>MEDV</th>\n",
       "      <td>0.428252</td>\n",
       "      <td>-0.322947</td>\n",
       "      <td>0.006826</td>\n",
       "      <td>1.000000</td>\n",
       "      <td>-0.389582</td>\n",
       "      <td>0.360386</td>\n",
       "      <td>-0.484754</td>\n",
       "      <td>0.175663</td>\n",
       "      <td>-0.429300</td>\n",
       "      <td>0.696304</td>\n",
       "      <td>-0.377999</td>\n",
       "      <td>0.249315</td>\n",
       "      <td>-0.384766</td>\n",
       "      <td>-0.471979</td>\n",
       "      <td>-0.505655</td>\n",
       "    </tr>\n",
       "    <tr>\n",
       "      <th>CRIM</th>\n",
       "      <td>-0.547165</td>\n",
       "      <td>0.065101</td>\n",
       "      <td>-0.084293</td>\n",
       "      <td>-0.389582</td>\n",
       "      <td>1.000000</td>\n",
       "      <td>-0.200469</td>\n",
       "      <td>0.406583</td>\n",
       "      <td>-0.055892</td>\n",
       "      <td>0.420972</td>\n",
       "      <td>-0.219247</td>\n",
       "      <td>0.352734</td>\n",
       "      <td>-0.379670</td>\n",
       "      <td>0.625505</td>\n",
       "      <td>0.582764</td>\n",
       "      <td>0.289946</td>\n",
       "    </tr>\n",
       "    <tr>\n",
       "      <th>ZN</th>\n",
       "      <td>0.367292</td>\n",
       "      <td>-0.218081</td>\n",
       "      <td>-0.129667</td>\n",
       "      <td>0.360386</td>\n",
       "      <td>-0.200469</td>\n",
       "      <td>1.000000</td>\n",
       "      <td>-0.533828</td>\n",
       "      <td>-0.042697</td>\n",
       "      <td>-0.516604</td>\n",
       "      <td>0.311991</td>\n",
       "      <td>-0.569537</td>\n",
       "      <td>0.664408</td>\n",
       "      <td>-0.311948</td>\n",
       "      <td>-0.314563</td>\n",
       "      <td>-0.391679</td>\n",
       "    </tr>\n",
       "    <tr>\n",
       "      <th>INDUS</th>\n",
       "      <td>-0.575705</td>\n",
       "      <td>0.062702</td>\n",
       "      <td>-0.041093</td>\n",
       "      <td>-0.484754</td>\n",
       "      <td>0.406583</td>\n",
       "      <td>-0.533828</td>\n",
       "      <td>1.000000</td>\n",
       "      <td>0.062938</td>\n",
       "      <td>0.763651</td>\n",
       "      <td>-0.391676</td>\n",
       "      <td>0.644779</td>\n",
       "      <td>-0.708027</td>\n",
       "      <td>0.595129</td>\n",
       "      <td>0.720760</td>\n",
       "      <td>0.383248</td>\n",
       "    </tr>\n",
       "    <tr>\n",
       "      <th>CHAS</th>\n",
       "      <td>0.041356</td>\n",
       "      <td>-0.175619</td>\n",
       "      <td>-0.044726</td>\n",
       "      <td>0.175663</td>\n",
       "      <td>-0.055892</td>\n",
       "      <td>-0.042697</td>\n",
       "      <td>0.062938</td>\n",
       "      <td>1.000000</td>\n",
       "      <td>0.091203</td>\n",
       "      <td>0.091251</td>\n",
       "      <td>0.086518</td>\n",
       "      <td>-0.099176</td>\n",
       "      <td>-0.007368</td>\n",
       "      <td>-0.035587</td>\n",
       "      <td>-0.121515</td>\n",
       "    </tr>\n",
       "    <tr>\n",
       "      <th>NOX</th>\n",
       "      <td>-0.569807</td>\n",
       "      <td>0.160871</td>\n",
       "      <td>-0.068600</td>\n",
       "      <td>-0.429300</td>\n",
       "      <td>0.420972</td>\n",
       "      <td>-0.516604</td>\n",
       "      <td>0.763651</td>\n",
       "      <td>0.091203</td>\n",
       "      <td>1.000000</td>\n",
       "      <td>-0.302188</td>\n",
       "      <td>0.731470</td>\n",
       "      <td>-0.769230</td>\n",
       "      <td>0.611441</td>\n",
       "      <td>0.668023</td>\n",
       "      <td>0.188933</td>\n",
       "    </tr>\n",
       "    <tr>\n",
       "      <th>RM</th>\n",
       "      <td>0.305207</td>\n",
       "      <td>-0.257110</td>\n",
       "      <td>-0.069317</td>\n",
       "      <td>0.696304</td>\n",
       "      <td>-0.219247</td>\n",
       "      <td>0.311991</td>\n",
       "      <td>-0.391676</td>\n",
       "      <td>0.091251</td>\n",
       "      <td>-0.302188</td>\n",
       "      <td>1.000000</td>\n",
       "      <td>-0.240265</td>\n",
       "      <td>0.205246</td>\n",
       "      <td>-0.209847</td>\n",
       "      <td>-0.292048</td>\n",
       "      <td>-0.355501</td>\n",
       "    </tr>\n",
       "    <tr>\n",
       "      <th>AGE</th>\n",
       "      <td>-0.487465</td>\n",
       "      <td>0.204739</td>\n",
       "      <td>0.079035</td>\n",
       "      <td>-0.377999</td>\n",
       "      <td>0.352734</td>\n",
       "      <td>-0.569537</td>\n",
       "      <td>0.644779</td>\n",
       "      <td>0.086518</td>\n",
       "      <td>0.731470</td>\n",
       "      <td>-0.240265</td>\n",
       "      <td>1.000000</td>\n",
       "      <td>-0.747881</td>\n",
       "      <td>0.456022</td>\n",
       "      <td>0.506456</td>\n",
       "      <td>0.261515</td>\n",
       "    </tr>\n",
       "    <tr>\n",
       "      <th>DIS</th>\n",
       "      <td>0.496841</td>\n",
       "      <td>-0.011243</td>\n",
       "      <td>-0.082981</td>\n",
       "      <td>0.249315</td>\n",
       "      <td>-0.379670</td>\n",
       "      <td>0.664408</td>\n",
       "      <td>-0.708027</td>\n",
       "      <td>-0.099176</td>\n",
       "      <td>-0.769230</td>\n",
       "      <td>0.205246</td>\n",
       "      <td>-0.747881</td>\n",
       "      <td>1.000000</td>\n",
       "      <td>-0.494588</td>\n",
       "      <td>-0.534432</td>\n",
       "      <td>-0.232471</td>\n",
       "    </tr>\n",
       "    <tr>\n",
       "      <th>RAD</th>\n",
       "      <td>-0.828829</td>\n",
       "      <td>0.034067</td>\n",
       "      <td>-0.207013</td>\n",
       "      <td>-0.384766</td>\n",
       "      <td>0.625505</td>\n",
       "      <td>-0.311948</td>\n",
       "      <td>0.595129</td>\n",
       "      <td>-0.007368</td>\n",
       "      <td>0.611441</td>\n",
       "      <td>-0.209847</td>\n",
       "      <td>0.456022</td>\n",
       "      <td>-0.494588</td>\n",
       "      <td>1.000000</td>\n",
       "      <td>0.910228</td>\n",
       "      <td>0.464741</td>\n",
       "    </tr>\n",
       "    <tr>\n",
       "      <th>TAX</th>\n",
       "      <td>-0.793602</td>\n",
       "      <td>0.050663</td>\n",
       "      <td>-0.167718</td>\n",
       "      <td>-0.471979</td>\n",
       "      <td>0.582764</td>\n",
       "      <td>-0.314563</td>\n",
       "      <td>0.720760</td>\n",
       "      <td>-0.035587</td>\n",
       "      <td>0.668023</td>\n",
       "      <td>-0.292048</td>\n",
       "      <td>0.506456</td>\n",
       "      <td>-0.534432</td>\n",
       "      <td>0.910228</td>\n",
       "      <td>1.000000</td>\n",
       "      <td>0.460853</td>\n",
       "    </tr>\n",
       "    <tr>\n",
       "      <th>PTRATIO</th>\n",
       "      <td>-0.532678</td>\n",
       "      <td>0.312602</td>\n",
       "      <td>-0.004527</td>\n",
       "      <td>-0.505655</td>\n",
       "      <td>0.289946</td>\n",
       "      <td>-0.391679</td>\n",
       "      <td>0.383248</td>\n",
       "      <td>-0.121515</td>\n",
       "      <td>0.188933</td>\n",
       "      <td>-0.355501</td>\n",
       "      <td>0.261515</td>\n",
       "      <td>-0.232471</td>\n",
       "      <td>0.464741</td>\n",
       "      <td>0.460853</td>\n",
       "      <td>1.000000</td>\n",
       "    </tr>\n",
       "  </tbody>\n",
       "</table>\n",
       "</div>"
      ],
      "text/plain": [
       "            TRACT       LON       LAT      MEDV      CRIM        ZN     INDUS  \\\n",
       "TRACT    1.000000 -0.220890 -0.225543  0.428252 -0.547165  0.367292 -0.575705   \n",
       "LON     -0.220890  1.000000  0.143054 -0.322947  0.065101 -0.218081  0.062702   \n",
       "LAT     -0.225543  0.143054  1.000000  0.006826 -0.084293 -0.129667 -0.041093   \n",
       "MEDV     0.428252 -0.322947  0.006826  1.000000 -0.389582  0.360386 -0.484754   \n",
       "CRIM    -0.547165  0.065101 -0.084293 -0.389582  1.000000 -0.200469  0.406583   \n",
       "ZN       0.367292 -0.218081 -0.129667  0.360386 -0.200469  1.000000 -0.533828   \n",
       "INDUS   -0.575705  0.062702 -0.041093 -0.484754  0.406583 -0.533828  1.000000   \n",
       "CHAS     0.041356 -0.175619 -0.044726  0.175663 -0.055892 -0.042697  0.062938   \n",
       "NOX     -0.569807  0.160871 -0.068600 -0.429300  0.420972 -0.516604  0.763651   \n",
       "RM       0.305207 -0.257110 -0.069317  0.696304 -0.219247  0.311991 -0.391676   \n",
       "AGE     -0.487465  0.204739  0.079035 -0.377999  0.352734 -0.569537  0.644779   \n",
       "DIS      0.496841 -0.011243 -0.082981  0.249315 -0.379670  0.664408 -0.708027   \n",
       "RAD     -0.828829  0.034067 -0.207013 -0.384766  0.625505 -0.311948  0.595129   \n",
       "TAX     -0.793602  0.050663 -0.167718 -0.471979  0.582764 -0.314563  0.720760   \n",
       "PTRATIO -0.532678  0.312602 -0.004527 -0.505655  0.289946 -0.391679  0.383248   \n",
       "\n",
       "             CHAS       NOX        RM       AGE       DIS       RAD       TAX  \\\n",
       "TRACT    0.041356 -0.569807  0.305207 -0.487465  0.496841 -0.828829 -0.793602   \n",
       "LON     -0.175619  0.160871 -0.257110  0.204739 -0.011243  0.034067  0.050663   \n",
       "LAT     -0.044726 -0.068600 -0.069317  0.079035 -0.082981 -0.207013 -0.167718   \n",
       "MEDV     0.175663 -0.429300  0.696304 -0.377999  0.249315 -0.384766 -0.471979   \n",
       "CRIM    -0.055892  0.420972 -0.219247  0.352734 -0.379670  0.625505  0.582764   \n",
       "ZN      -0.042697 -0.516604  0.311991 -0.569537  0.664408 -0.311948 -0.314563   \n",
       "INDUS    0.062938  0.763651 -0.391676  0.644779 -0.708027  0.595129  0.720760   \n",
       "CHAS     1.000000  0.091203  0.091251  0.086518 -0.099176 -0.007368 -0.035587   \n",
       "NOX      0.091203  1.000000 -0.302188  0.731470 -0.769230  0.611441  0.668023   \n",
       "RM       0.091251 -0.302188  1.000000 -0.240265  0.205246 -0.209847 -0.292048   \n",
       "AGE      0.086518  0.731470 -0.240265  1.000000 -0.747881  0.456022  0.506456   \n",
       "DIS     -0.099176 -0.769230  0.205246 -0.747881  1.000000 -0.494588 -0.534432   \n",
       "RAD     -0.007368  0.611441 -0.209847  0.456022 -0.494588  1.000000  0.910228   \n",
       "TAX     -0.035587  0.668023 -0.292048  0.506456 -0.534432  0.910228  1.000000   \n",
       "PTRATIO -0.121515  0.188933 -0.355501  0.261515 -0.232471  0.464741  0.460853   \n",
       "\n",
       "          PTRATIO  \n",
       "TRACT   -0.532678  \n",
       "LON      0.312602  \n",
       "LAT     -0.004527  \n",
       "MEDV    -0.505655  \n",
       "CRIM     0.289946  \n",
       "ZN      -0.391679  \n",
       "INDUS    0.383248  \n",
       "CHAS    -0.121515  \n",
       "NOX      0.188933  \n",
       "RM      -0.355501  \n",
       "AGE      0.261515  \n",
       "DIS     -0.232471  \n",
       "RAD      0.464741  \n",
       "TAX      0.460853  \n",
       "PTRATIO  1.000000  "
      ]
     },
     "execution_count": 44,
     "metadata": {},
     "output_type": "execute_result"
    }
   ],
   "source": [
    "plt.rcParams[\"figure.figsize\"] = (8, 6)\n",
    "corr = housing_dataset.corr()\n",
    "corr"
   ]
  },
  {
   "cell_type": "markdown",
   "id": "5621cae4",
   "metadata": {},
   "source": [
    "**¿Cómo se interpreta el resultado?**\n",
    "\n",
    "El coeficiente de correlación siempre es un valor entre -1 y +1:\n",
    "\n",
    "- **Correlación Positiva (cercano a +1)** 📈: Cuando una variable aumenta, la otra también tiende a aumentar. Una correlación de +1 es una relación lineal positiva perfecta.\n",
    "\n",
    "Ejemplo: Horas de estudio y nota de un examen.\n",
    "\n",
    "- **Correlación Negativa (cercano a -1)** 📉: Cuando una variable aumenta, la otra tiende a disminuir. Una correlación de -1 es una relación lineal negativa perfecta.\n",
    "\n",
    "Ejemplo: Velocidad de un coche y tiempo para llegar al destino.\n",
    "\n",
    "- **Sin Correlación (cercano a 0)**: No existe una relación lineal aparente entre las dos variables.   \n",
    "\n",
    "Ejemplo: Estatura de una persona y su calificación en un examen."
   ]
  },
  {
   "cell_type": "code",
   "execution_count": null,
   "id": "39c2b7c6",
   "metadata": {},
   "outputs": [
    {
     "data": {
      "text/plain": [
       "<Axes: >"
      ]
     },
     "execution_count": 63,
     "metadata": {},
     "output_type": "execute_result"
    },
    {
     "data": {
      "image/png": "[encoded data removed]",
      "text/plain": [
       "<Figure size 800x600 with 2 Axes>"
      ]
     },
     "metadata": {},
     "output_type": "display_data"
    }
   ],
   "source": [
    "sns.heatmap(corr, annot=True, cmap='coolwarm', center=0)"
   ]
  },
  {
   "cell_type": "code",
   "execution_count": null,
   "id": "3b2a72bb",
   "metadata": {},
   "outputs": [],
   "source": [
    "X=housing_dataset.drop(['MEDV'], axis=1)\n",
    "y=housing_dataset.filter(['MEDV'], axis=1)"
   ]
  },
  {
   "cell_type": "code",
   "execution_count": null,
   "id": "b717b7ce",
   "metadata": {},
   "outputs": [
    {
     "data": {
      "text/html": [
       "<div>\n",
       "<style scoped>\n",
       "    .dataframe tbody tr th:only-of-type {\n",
       "        vertical-align: middle;\n",
       "    }\n",
       "\n",
       "    .dataframe tbody tr th {\n",
       "        vertical-align: top;\n",
       "    }\n",
       "\n",
       "    .dataframe thead th {\n",
       "        text-align: right;\n",
       "    }\n",
       "</style>\n",
       "<table border=\"1\" class=\"dataframe\">\n",
       "  <thead>\n",
       "    <tr style=\"text-align: right;\">\n",
       "      <th></th>\n",
       "      <th>TRACT</th>\n",
       "      <th>LON</th>\n",
       "      <th>LAT</th>\n",
       "      <th>CRIM</th>\n",
       "      <th>ZN</th>\n",
       "      <th>INDUS</th>\n",
       "      <th>CHAS</th>\n",
       "      <th>NOX</th>\n",
       "      <th>RM</th>\n",
       "      <th>AGE</th>\n",
       "      <th>DIS</th>\n",
       "      <th>RAD</th>\n",
       "      <th>TAX</th>\n",
       "      <th>PTRATIO</th>\n",
       "    </tr>\n",
       "  </thead>\n",
       "  <tbody>\n",
       "    <tr>\n",
       "      <th>0</th>\n",
       "      <td>2011</td>\n",
       "      <td>-70.955</td>\n",
       "      <td>42.2550</td>\n",
       "      <td>0.00632</td>\n",
       "      <td>18.0</td>\n",
       "      <td>2.31</td>\n",
       "      <td>0</td>\n",
       "      <td>0.538</td>\n",
       "      <td>6.575</td>\n",
       "      <td>65.2</td>\n",
       "      <td>4.0900</td>\n",
       "      <td>1</td>\n",
       "      <td>296</td>\n",
       "      <td>15.3</td>\n",
       "    </tr>\n",
       "    <tr>\n",
       "      <th>1</th>\n",
       "      <td>2021</td>\n",
       "      <td>-70.950</td>\n",
       "      <td>42.2875</td>\n",
       "      <td>0.02731</td>\n",
       "      <td>0.0</td>\n",
       "      <td>7.07</td>\n",
       "      <td>0</td>\n",
       "      <td>0.469</td>\n",
       "      <td>6.421</td>\n",
       "      <td>78.9</td>\n",
       "      <td>4.9671</td>\n",
       "      <td>2</td>\n",
       "      <td>242</td>\n",
       "      <td>17.8</td>\n",
       "    </tr>\n",
       "    <tr>\n",
       "      <th>2</th>\n",
       "      <td>2022</td>\n",
       "      <td>-70.936</td>\n",
       "      <td>42.2830</td>\n",
       "      <td>0.02729</td>\n",
       "      <td>0.0</td>\n",
       "      <td>7.07</td>\n",
       "      <td>0</td>\n",
       "      <td>0.469</td>\n",
       "      <td>7.185</td>\n",
       "      <td>61.1</td>\n",
       "      <td>4.9671</td>\n",
       "      <td>2</td>\n",
       "      <td>242</td>\n",
       "      <td>17.8</td>\n",
       "    </tr>\n",
       "    <tr>\n",
       "      <th>3</th>\n",
       "      <td>2031</td>\n",
       "      <td>-70.928</td>\n",
       "      <td>42.2930</td>\n",
       "      <td>0.03237</td>\n",
       "      <td>0.0</td>\n",
       "      <td>2.18</td>\n",
       "      <td>0</td>\n",
       "      <td>0.458</td>\n",
       "      <td>6.998</td>\n",
       "      <td>45.8</td>\n",
       "      <td>6.0622</td>\n",
       "      <td>3</td>\n",
       "      <td>222</td>\n",
       "      <td>18.7</td>\n",
       "    </tr>\n",
       "    <tr>\n",
       "      <th>4</th>\n",
       "      <td>2032</td>\n",
       "      <td>-70.922</td>\n",
       "      <td>42.2980</td>\n",
       "      <td>0.06905</td>\n",
       "      <td>0.0</td>\n",
       "      <td>2.18</td>\n",
       "      <td>0</td>\n",
       "      <td>0.458</td>\n",
       "      <td>7.147</td>\n",
       "      <td>54.2</td>\n",
       "      <td>6.0622</td>\n",
       "      <td>3</td>\n",
       "      <td>222</td>\n",
       "      <td>18.7</td>\n",
       "    </tr>\n",
       "  </tbody>\n",
       "</table>\n",
       "</div>"
      ],
      "text/plain": [
       "   TRACT     LON      LAT     CRIM    ZN  INDUS  CHAS    NOX     RM   AGE  \\\n",
       "0   2011 -70.955  42.2550  0.00632  18.0   2.31     0  0.538  6.575  65.2   \n",
       "1   2021 -70.950  42.2875  0.02731   0.0   7.07     0  0.469  6.421  78.9   \n",
       "2   2022 -70.936  42.2830  0.02729   0.0   7.07     0  0.469  7.185  61.1   \n",
       "3   2031 -70.928  42.2930  0.03237   0.0   2.18     0  0.458  6.998  45.8   \n",
       "4   2032 -70.922  42.2980  0.06905   0.0   2.18     0  0.458  7.147  54.2   \n",
       "\n",
       "      DIS  RAD  TAX  PTRATIO  \n",
       "0  4.0900    1  296     15.3  \n",
       "1  4.9671    2  242     17.8  \n",
       "2  4.9671    2  242     17.8  \n",
       "3  6.0622    3  222     18.7  \n",
       "4  6.0622    3  222     18.7  "
      ]
     },
     "execution_count": 65,
     "metadata": {},
     "output_type": "execute_result"
    }
   ],
   "source": [
    "X.head()"
   ]
  },
  {
   "cell_type": "code",
   "execution_count": null,
   "id": "c6a3706b",
   "metadata": {},
   "outputs": [
    {
     "data": {
      "text/html": [
       "<div>\n",
       "<style scoped>\n",
       "    .dataframe tbody tr th:only-of-type {\n",
       "        vertical-align: middle;\n",
       "    }\n",
       "\n",
       "    .dataframe tbody tr th {\n",
       "        vertical-align: top;\n",
       "    }\n",
       "\n",
       "    .dataframe thead th {\n",
       "        text-align: right;\n",
       "    }\n",
       "</style>\n",
       "<table border=\"1\" class=\"dataframe\">\n",
       "  <thead>\n",
       "    <tr style=\"text-align: right;\">\n",
       "      <th></th>\n",
       "      <th>MEDV</th>\n",
       "    </tr>\n",
       "  </thead>\n",
       "  <tbody>\n",
       "    <tr>\n",
       "      <th>0</th>\n",
       "      <td>24.0</td>\n",
       "    </tr>\n",
       "    <tr>\n",
       "      <th>1</th>\n",
       "      <td>21.6</td>\n",
       "    </tr>\n",
       "    <tr>\n",
       "      <th>2</th>\n",
       "      <td>34.7</td>\n",
       "    </tr>\n",
       "    <tr>\n",
       "      <th>3</th>\n",
       "      <td>33.4</td>\n",
       "    </tr>\n",
       "    <tr>\n",
       "      <th>4</th>\n",
       "      <td>36.2</td>\n",
       "    </tr>\n",
       "  </tbody>\n",
       "</table>\n",
       "</div>"
      ],
      "text/plain": [
       "   MEDV\n",
       "0  24.0\n",
       "1  21.6\n",
       "2  34.7\n",
       "3  33.4\n",
       "4  36.2"
      ]
     },
     "execution_count": 66,
     "metadata": {},
     "output_type": "execute_result"
    }
   ],
   "source": [
    "y.head()"
   ]
  },
  {
   "cell_type": "code",
   "execution_count": null,
   "id": "87e0dff7",
   "metadata": {},
   "outputs": [],
   "source": [
    "X_train, X_test, y_train, y_test = train_test_split(X, y, test_size=0.2, random_state=42)"
   ]
  },
  {
   "cell_type": "code",
   "execution_count": null,
   "id": "fa5a10f4",
   "metadata": {},
   "outputs": [],
   "source": [
    "house_predictor=LinearRegression()\n",
    "house_predictor.fit(X_train, y_train)\n",
    "y_pred = house_predictor.predict(X_test)"
   ]
  },
  {
   "cell_type": "code",
   "execution_count": null,
   "id": "8f409dc6",
   "metadata": {},
   "outputs": [
    {
     "name": "stdout",
     "output_type": "stream",
     "text": [
      "Error Medio Absoluto - Mean Absolute Error (MAE): 3.399704535554148\n",
      "Error Cuadrático Medio - Mean Squared Error (MSE): 28.9936897024914\n",
      "Root Mean Squared Error: 5.38457887884386\n"
     ]
    }
   ],
   "source": [
    "print('Error Medio Absoluto - Mean Absolute Error (MAE):', metrics.mean_absolute_error(y_test, y_pred))\n",
    "print('Error Cuadrático Medio - Mean Squared Error (MSE):', metrics.mean_squared_error(y_test, y_pred))\n",
    "print('Root Mean Squared Error:', np.sqrt(metrics.mean_squared_error(y_test, y_pred)))"
   ]
  },
  {
   "cell_type": "markdown",
   "id": "78be8e0d",
   "metadata": {},
   "source": [
    "El valor MAE muestra que, por término medio, hay un error de 3,X dólares entre los valores reales y los previstos para la columna MEDV."
   ]
  },
  {
   "cell_type": "markdown",
   "id": "f6e6aebb",
   "metadata": {},
   "source": [
    "EL Error Cuadrático Medio (MSE) es una de las funciones de pérdida de regresión más comunes. En el error cuadrático medio, también conocido como pérdida L2, calculamos el error elevando al cuadrado la diferencia entre el valor predicho y el valor real y promediando el conjunto de datos.   \n",
    "Representa la distancia al cuadrado entre los valores reales y predichos. Se eleva al cuadrado para evitar la cancelación de términos negativos.   \n"
   ]
  },
  {
   "cell_type": "markdown",
   "metadata": {},
   "source": [
    "### <a id='toc1_4_1_'></a>[Análisis evaluativo del modelo](#toc0_)\n",
    "\n",
    "- Mean Absolute Error (MAE) ≈ 3.40\n",
    "Esto indica que, en promedio, la predicción se desvía 3.40 miles de dólares (es decir, $3,400) del valor real.\n",
    "- Mean Squared Error (MSE) ≈ 28.99 y Root Mean Squared Error (RMSE) ≈ 5.38\n",
    "El RMSE indica que, en promedio, el error de predicción es de 5.38 miles de dólares (unos $5,380).   \n",
    "\n",
    "Que el RMSE sea mayor que el MAE (5.38 vs 3.40) sugiere que existen algunos casos con errores más grandes que elevan el promedio cuadrático. (posible existencia de Outliers!?)"
   ]
  },
  {
   "cell_type": "markdown",
   "id": "90376f5d",
   "metadata": {},
   "source": [
    "## <a id='toc1_5_'></a>[EJERCICIO PRÁCTICO](#toc0_)\n",
    "\n",
    "Usando el dataset **\"diamonds\"**, con información sobre diamantes y que viene en el paquete Seaborn. El objetivo del ejercicio es predecir el precio de un diamante (\"price\") en función de los quilates de este (\"carat\")."
   ]
  },
  {
   "cell_type": "markdown",
   "id": "fd40a7e2",
   "metadata": {},
   "source": [
    "### PASO 1 - Carga del dataset (mediante url) y conversión en DataFrame"
   ]
  },
  {
   "cell_type": "markdown",
   "id": "58e2d0f3",
   "metadata": {},
   "source": [
    "Carga de librerías necesarias."
   ]
  },
  {
   "cell_type": "code",
   "execution_count": 3,
   "id": "32b5a4ce",
   "metadata": {},
   "outputs": [],
   "source": [
    "import pandas as pd\n",
    "import matplotlib.pyplot as plt\n",
    "import seaborn as sns\n",
    "from sklearn.model_selection import train_test_split\n",
    "from sklearn.linear_model import LinearRegression"
   ]
  },
  {
   "cell_type": "markdown",
   "id": "788579ac",
   "metadata": {},
   "source": [
    "Cargamos los datos en un DataFrame"
   ]
  },
  {
   "cell_type": "code",
   "execution_count": 4,
   "id": "0c69986c",
   "metadata": {},
   "outputs": [
    {
     "data": {
      "text/html": [
       "<div>\n",
       "<style scoped>\n",
       "    .dataframe tbody tr th:only-of-type {\n",
       "        vertical-align: middle;\n",
       "    }\n",
       "\n",
       "    .dataframe tbody tr th {\n",
       "        vertical-align: top;\n",
       "    }\n",
       "\n",
       "    .dataframe thead th {\n",
       "        text-align: right;\n",
       "    }\n",
       "</style>\n",
       "<table border=\"1\" class=\"dataframe\">\n",
       "  <thead>\n",
       "    <tr style=\"text-align: right;\">\n",
       "      <th></th>\n",
       "      <th>carat</th>\n",
       "      <th>cut</th>\n",
       "      <th>color</th>\n",
       "      <th>clarity</th>\n",
       "      <th>depth</th>\n",
       "      <th>table</th>\n",
       "      <th>price</th>\n",
       "      <th>x</th>\n",
       "      <th>y</th>\n",
       "      <th>z</th>\n",
       "    </tr>\n",
       "  </thead>\n",
       "  <tbody>\n",
       "    <tr>\n",
       "      <th>0</th>\n",
       "      <td>0.23</td>\n",
       "      <td>Ideal</td>\n",
       "      <td>E</td>\n",
       "      <td>SI2</td>\n",
       "      <td>61.5</td>\n",
       "      <td>55.0</td>\n",
       "      <td>326</td>\n",
       "      <td>3.95</td>\n",
       "      <td>3.98</td>\n",
       "      <td>2.43</td>\n",
       "    </tr>\n",
       "    <tr>\n",
       "      <th>1</th>\n",
       "      <td>0.21</td>\n",
       "      <td>Premium</td>\n",
       "      <td>E</td>\n",
       "      <td>SI1</td>\n",
       "      <td>59.8</td>\n",
       "      <td>61.0</td>\n",
       "      <td>326</td>\n",
       "      <td>3.89</td>\n",
       "      <td>3.84</td>\n",
       "      <td>2.31</td>\n",
       "    </tr>\n",
       "    <tr>\n",
       "      <th>2</th>\n",
       "      <td>0.23</td>\n",
       "      <td>Good</td>\n",
       "      <td>E</td>\n",
       "      <td>VS1</td>\n",
       "      <td>56.9</td>\n",
       "      <td>65.0</td>\n",
       "      <td>327</td>\n",
       "      <td>4.05</td>\n",
       "      <td>4.07</td>\n",
       "      <td>2.31</td>\n",
       "    </tr>\n",
       "    <tr>\n",
       "      <th>3</th>\n",
       "      <td>0.29</td>\n",
       "      <td>Premium</td>\n",
       "      <td>I</td>\n",
       "      <td>VS2</td>\n",
       "      <td>62.4</td>\n",
       "      <td>58.0</td>\n",
       "      <td>334</td>\n",
       "      <td>4.20</td>\n",
       "      <td>4.23</td>\n",
       "      <td>2.63</td>\n",
       "    </tr>\n",
       "    <tr>\n",
       "      <th>4</th>\n",
       "      <td>0.31</td>\n",
       "      <td>Good</td>\n",
       "      <td>J</td>\n",
       "      <td>SI2</td>\n",
       "      <td>63.3</td>\n",
       "      <td>58.0</td>\n",
       "      <td>335</td>\n",
       "      <td>4.34</td>\n",
       "      <td>4.35</td>\n",
       "      <td>2.75</td>\n",
       "    </tr>\n",
       "  </tbody>\n",
       "</table>\n",
       "</div>"
      ],
      "text/plain": [
       "   carat      cut color clarity  depth  table  price     x     y     z\n",
       "0   0.23    Ideal     E     SI2   61.5   55.0    326  3.95  3.98  2.43\n",
       "1   0.21  Premium     E     SI1   59.8   61.0    326  3.89  3.84  2.31\n",
       "2   0.23     Good     E     VS1   56.9   65.0    327  4.05  4.07  2.31\n",
       "3   0.29  Premium     I     VS2   62.4   58.0    334  4.20  4.23  2.63\n",
       "4   0.31     Good     J     SI2   63.3   58.0    335  4.34  4.35  2.75"
      ]
     },
     "execution_count": 4,
     "metadata": {},
     "output_type": "execute_result"
    }
   ],
   "source": [
    "df_diamonds = sns.load_dataset('diamonds')\n",
    "df_diamonds.head()"
   ]
  },
  {
   "cell_type": "markdown",
   "id": "72d58930",
   "metadata": {},
   "source": [
    "A partir de aquí, realiza el análisis, la construción y entrenamiento del modelo y, por último, la evaluación del mismo."
   ]
  },
  {
   "cell_type": "markdown",
   "id": "32fc2526",
   "metadata": {},
   "source": []
  }
 ],
 "metadata": {
  "kernelspec": {
   "display_name": "Python 3",
   "language": "python",
   "name": "python3"
  },
  "language_info": {
   "codemirror_mode": {
    "name": "ipython",
    "version": 3
   },
   "file_extension": ".py",
   "mimetype": "text/x-python",
   "name": "python",
   "nbconvert_exporter": "python",
   "pygments_lexer": "ipython3",
   "version": "3.12.3"
  }
 },
 "nbformat": 4,
 "nbformat_minor": 5
}
